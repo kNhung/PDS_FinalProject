{
 "cells": [
  {
   "cell_type": "markdown",
   "metadata": {},
   "source": [
    "# 1. Chủ đề"
   ]
  },
  {
   "cell_type": "markdown",
   "metadata": {},
   "source": [
    "Bộ dữ liệu là về các bộ phim, chương trình truyền hình của Netflix, cung cấp thông tin chi tiết về những nội dung giải trí có sẵn trên nền tảng này. Chủ đề chính của bộ dữ liệu là việc mô tả và phân tích các thông tin liên quan đến các bộ phim và chương trình truyền hình, bao gồm các đặc điểm như tên phim, thể loại, quốc gia sản xuất, năm phát hành, thời gian công chiếu, tên đạo diễn và dàn diễn viên, xếp loại dành cho độ tuổi và nhiều thông tin khác. Mục tiêu của bộ dữ liệu là cung cấp cái nhìn tổng quan về kho nội dung đồ sộ của Netflix, đồng thời hỗ trợ việc phân tích xu hướng nội dung, sự đa dạng thể loại và các yếu tố ảnh hưởng đến sự thành công của các chương trình trên nền tảng này."
   ]
  },
  {
   "cell_type": "markdown",
   "metadata": {},
   "source": [
    "# 2. Nguồn dữ liệu"
   ]
  },
  {
   "cell_type": "markdown",
   "metadata": {},
   "source": [
    "Bộ dữ liệu được cung cấp trên nền tảng Kaggle - một nền tảng nổi tiếng về khoa học dữ liệu và học máy, cho phép người dùng tải về và sử dụng các bộ dữ liệu mở để thực hiện phân tích và xây dựng mô hình học máy.\\\n",
    "Nguồn gốc của bộ dữ liệu này chủ yếu là từ nền tảng Netflix, một dịch vụ phát trực tuyến toàn cầu nổi tiếng với hàng nghìn bộ phim và chương trình truyền hình đến từ nhiều quốc gia khác nhau."
   ]
  },
  {
   "cell_type": "markdown",
   "metadata": {},
   "source": [
    "# 3. Sự cấp phép của nguồn dữ liệu"
   ]
  },
  {
   "cell_type": "markdown",
   "metadata": {},
   "source": [
    "Bộ dữ liệu này được cung cấp dưới giấy phép CC0: Public Domain, nghĩa là dữ liệu hoàn toàn mở và có thể được sử dụng, chỉnh sửa hoặc phân phối lại mà không bị hạn chế, kể cả cho mục đích thương mại."
   ]
  },
  {
   "cell_type": "markdown",
   "metadata": {},
   "source": [
    "# 4. Cách tác giả thu thập dữ liệu"
   ]
  },
  {
   "cell_type": "markdown",
   "metadata": {},
   "source": [
    "Bộ dữ liệu được tạo ra và chia sẻ bởi tác giả là M Rahul Vyas. Theo mô tả, dữ liệu được thu thập từ nền tảng Netflix thông qua phương pháp web scraping. Đây là kỹ thuật phổ biến để trích xuất dữ liệu từ các trang web công khai bằng cách sử dụng mã lập trình để thu thập thông tin một cách tự động. Các trường thông tin được thu thập bao gồm tên bộ phim hoặc chương trình truyền hình, năm sản xuất, tên đạo diễn, quốc gia sản xuất, dàn diễn viên, xếp hạng độ tuổi, ngày phát hành và thể loại nội dung."
   ]
  }
 ],
 "metadata": {
  "language_info": {
   "name": "python"
  }
 },
 "nbformat": 4,
 "nbformat_minor": 2
}
