{
 "cells": [
  {
   "cell_type": "markdown",
   "metadata": {},
   "source": [
    "# 1. Các thư viện cần thiết:"
   ]
  },
  {
   "cell_type": "code",
   "execution_count": 1,
   "metadata": {},
   "outputs": [],
   "source": [
    "import pandas as pd\n",
    "import numpy as np"
   ]
  },
  {
   "cell_type": "markdown",
   "metadata": {},
   "source": [
    "# 2. Đọc dữ liệu lưu vào Dataframe:"
   ]
  },
  {
   "cell_type": "code",
   "execution_count": 2,
   "metadata": {},
   "outputs": [
    {
     "data": {
      "text/html": [
       "<div>\n",
       "<style scoped>\n",
       "    .dataframe tbody tr th:only-of-type {\n",
       "        vertical-align: middle;\n",
       "    }\n",
       "\n",
       "    .dataframe tbody tr th {\n",
       "        vertical-align: top;\n",
       "    }\n",
       "\n",
       "    .dataframe thead th {\n",
       "        text-align: right;\n",
       "    }\n",
       "</style>\n",
       "<table border=\"1\" class=\"dataframe\">\n",
       "  <thead>\n",
       "    <tr style=\"text-align: right;\">\n",
       "      <th></th>\n",
       "      <th>type</th>\n",
       "      <th>title</th>\n",
       "      <th>director</th>\n",
       "      <th>cast</th>\n",
       "      <th>country</th>\n",
       "      <th>date_added</th>\n",
       "      <th>release_year</th>\n",
       "      <th>rating</th>\n",
       "      <th>duration</th>\n",
       "      <th>listed_in</th>\n",
       "      <th>...</th>\n",
       "      <th>Unnamed: 16</th>\n",
       "      <th>Unnamed: 17</th>\n",
       "      <th>Unnamed: 18</th>\n",
       "      <th>Unnamed: 19</th>\n",
       "      <th>Unnamed: 20</th>\n",
       "      <th>Unnamed: 21</th>\n",
       "      <th>Unnamed: 22</th>\n",
       "      <th>Unnamed: 23</th>\n",
       "      <th>Unnamed: 24</th>\n",
       "      <th>Unnamed: 25</th>\n",
       "    </tr>\n",
       "    <tr>\n",
       "      <th>show_id</th>\n",
       "      <th></th>\n",
       "      <th></th>\n",
       "      <th></th>\n",
       "      <th></th>\n",
       "      <th></th>\n",
       "      <th></th>\n",
       "      <th></th>\n",
       "      <th></th>\n",
       "      <th></th>\n",
       "      <th></th>\n",
       "      <th></th>\n",
       "      <th></th>\n",
       "      <th></th>\n",
       "      <th></th>\n",
       "      <th></th>\n",
       "      <th></th>\n",
       "      <th></th>\n",
       "      <th></th>\n",
       "      <th></th>\n",
       "      <th></th>\n",
       "      <th></th>\n",
       "    </tr>\n",
       "  </thead>\n",
       "  <tbody>\n",
       "    <tr>\n",
       "      <th>s1</th>\n",
       "      <td>Movie</td>\n",
       "      <td>Dick Johnson Is Dead</td>\n",
       "      <td>Kirsten Johnson</td>\n",
       "      <td>NaN</td>\n",
       "      <td>United States</td>\n",
       "      <td>September 25, 2021</td>\n",
       "      <td>2020</td>\n",
       "      <td>PG-13</td>\n",
       "      <td>90 min</td>\n",
       "      <td>Documentaries</td>\n",
       "      <td>...</td>\n",
       "      <td>NaN</td>\n",
       "      <td>NaN</td>\n",
       "      <td>NaN</td>\n",
       "      <td>NaN</td>\n",
       "      <td>NaN</td>\n",
       "      <td>NaN</td>\n",
       "      <td>NaN</td>\n",
       "      <td>NaN</td>\n",
       "      <td>NaN</td>\n",
       "      <td>NaN</td>\n",
       "    </tr>\n",
       "    <tr>\n",
       "      <th>s2</th>\n",
       "      <td>TV Show</td>\n",
       "      <td>Blood &amp; Water</td>\n",
       "      <td>NaN</td>\n",
       "      <td>Ama Qamata, Khosi Ngema, Gail Mabalane, Thaban...</td>\n",
       "      <td>South Africa</td>\n",
       "      <td>September 24, 2021</td>\n",
       "      <td>2021</td>\n",
       "      <td>TV-MA</td>\n",
       "      <td>2 Seasons</td>\n",
       "      <td>International TV Shows, TV Dramas, TV Mysteries</td>\n",
       "      <td>...</td>\n",
       "      <td>NaN</td>\n",
       "      <td>NaN</td>\n",
       "      <td>NaN</td>\n",
       "      <td>NaN</td>\n",
       "      <td>NaN</td>\n",
       "      <td>NaN</td>\n",
       "      <td>NaN</td>\n",
       "      <td>NaN</td>\n",
       "      <td>NaN</td>\n",
       "      <td>NaN</td>\n",
       "    </tr>\n",
       "    <tr>\n",
       "      <th>s3</th>\n",
       "      <td>TV Show</td>\n",
       "      <td>Ganglands</td>\n",
       "      <td>Julien Leclercq</td>\n",
       "      <td>Sami Bouajila, Tracy Gotoas, Samuel Jouy, Nabi...</td>\n",
       "      <td>NaN</td>\n",
       "      <td>September 24, 2021</td>\n",
       "      <td>2021</td>\n",
       "      <td>TV-MA</td>\n",
       "      <td>1 Season</td>\n",
       "      <td>Crime TV Shows, International TV Shows, TV Act...</td>\n",
       "      <td>...</td>\n",
       "      <td>NaN</td>\n",
       "      <td>NaN</td>\n",
       "      <td>NaN</td>\n",
       "      <td>NaN</td>\n",
       "      <td>NaN</td>\n",
       "      <td>NaN</td>\n",
       "      <td>NaN</td>\n",
       "      <td>NaN</td>\n",
       "      <td>NaN</td>\n",
       "      <td>NaN</td>\n",
       "    </tr>\n",
       "    <tr>\n",
       "      <th>s4</th>\n",
       "      <td>TV Show</td>\n",
       "      <td>Jailbirds New Orleans</td>\n",
       "      <td>NaN</td>\n",
       "      <td>NaN</td>\n",
       "      <td>NaN</td>\n",
       "      <td>September 24, 2021</td>\n",
       "      <td>2021</td>\n",
       "      <td>TV-MA</td>\n",
       "      <td>1 Season</td>\n",
       "      <td>Docuseries, Reality TV</td>\n",
       "      <td>...</td>\n",
       "      <td>NaN</td>\n",
       "      <td>NaN</td>\n",
       "      <td>NaN</td>\n",
       "      <td>NaN</td>\n",
       "      <td>NaN</td>\n",
       "      <td>NaN</td>\n",
       "      <td>NaN</td>\n",
       "      <td>NaN</td>\n",
       "      <td>NaN</td>\n",
       "      <td>NaN</td>\n",
       "    </tr>\n",
       "    <tr>\n",
       "      <th>s5</th>\n",
       "      <td>TV Show</td>\n",
       "      <td>Kota Factory</td>\n",
       "      <td>NaN</td>\n",
       "      <td>Mayur More, Jitendra Kumar, Ranjan Raj, Alam K...</td>\n",
       "      <td>India</td>\n",
       "      <td>September 24, 2021</td>\n",
       "      <td>2021</td>\n",
       "      <td>TV-MA</td>\n",
       "      <td>2 Seasons</td>\n",
       "      <td>International TV Shows, Romantic TV Shows, TV ...</td>\n",
       "      <td>...</td>\n",
       "      <td>NaN</td>\n",
       "      <td>NaN</td>\n",
       "      <td>NaN</td>\n",
       "      <td>NaN</td>\n",
       "      <td>NaN</td>\n",
       "      <td>NaN</td>\n",
       "      <td>NaN</td>\n",
       "      <td>NaN</td>\n",
       "      <td>NaN</td>\n",
       "      <td>NaN</td>\n",
       "    </tr>\n",
       "  </tbody>\n",
       "</table>\n",
       "<p>5 rows × 25 columns</p>\n",
       "</div>"
      ],
      "text/plain": [
       "            type                  title         director  \\\n",
       "show_id                                                    \n",
       "s1         Movie   Dick Johnson Is Dead  Kirsten Johnson   \n",
       "s2       TV Show          Blood & Water              NaN   \n",
       "s3       TV Show              Ganglands  Julien Leclercq   \n",
       "s4       TV Show  Jailbirds New Orleans              NaN   \n",
       "s5       TV Show           Kota Factory              NaN   \n",
       "\n",
       "                                                      cast        country  \\\n",
       "show_id                                                                     \n",
       "s1                                                     NaN  United States   \n",
       "s2       Ama Qamata, Khosi Ngema, Gail Mabalane, Thaban...   South Africa   \n",
       "s3       Sami Bouajila, Tracy Gotoas, Samuel Jouy, Nabi...            NaN   \n",
       "s4                                                     NaN            NaN   \n",
       "s5       Mayur More, Jitendra Kumar, Ranjan Raj, Alam K...          India   \n",
       "\n",
       "                 date_added  release_year rating   duration  \\\n",
       "show_id                                                       \n",
       "s1       September 25, 2021          2020  PG-13     90 min   \n",
       "s2       September 24, 2021          2021  TV-MA  2 Seasons   \n",
       "s3       September 24, 2021          2021  TV-MA   1 Season   \n",
       "s4       September 24, 2021          2021  TV-MA   1 Season   \n",
       "s5       September 24, 2021          2021  TV-MA  2 Seasons   \n",
       "\n",
       "                                                 listed_in  ... Unnamed: 16  \\\n",
       "show_id                                                     ...               \n",
       "s1                                           Documentaries  ...         NaN   \n",
       "s2         International TV Shows, TV Dramas, TV Mysteries  ...         NaN   \n",
       "s3       Crime TV Shows, International TV Shows, TV Act...  ...         NaN   \n",
       "s4                                  Docuseries, Reality TV  ...         NaN   \n",
       "s5       International TV Shows, Romantic TV Shows, TV ...  ...         NaN   \n",
       "\n",
       "         Unnamed: 17  Unnamed: 18  Unnamed: 19  Unnamed: 20  Unnamed: 21  \\\n",
       "show_id                                                                    \n",
       "s1               NaN          NaN          NaN          NaN          NaN   \n",
       "s2               NaN          NaN          NaN          NaN          NaN   \n",
       "s3               NaN          NaN          NaN          NaN          NaN   \n",
       "s4               NaN          NaN          NaN          NaN          NaN   \n",
       "s5               NaN          NaN          NaN          NaN          NaN   \n",
       "\n",
       "         Unnamed: 22  Unnamed: 23  Unnamed: 24  Unnamed: 25  \n",
       "show_id                                                      \n",
       "s1               NaN          NaN          NaN          NaN  \n",
       "s2               NaN          NaN          NaN          NaN  \n",
       "s3               NaN          NaN          NaN          NaN  \n",
       "s4               NaN          NaN          NaN          NaN  \n",
       "s5               NaN          NaN          NaN          NaN  \n",
       "\n",
       "[5 rows x 25 columns]"
      ]
     },
     "execution_count": 2,
     "metadata": {},
     "output_type": "execute_result"
    }
   ],
   "source": [
    "# Đọc tệp CSV mà không có header\n",
    "netflix_df = pd.read_csv('../data/netflix_titles.csv', encoding='ISO-8859-1', skiprows= 0)\n",
    "netflix_df.set_index('show_id', inplace=True) # Chọn cột show_id làm index\n",
    "netflix_df.head()"
   ]
  },
  {
   "cell_type": "markdown",
   "metadata": {},
   "source": [
    "- Giải thích cho việc sử dụng cột `show_id` trong tập dữ liệu gốc làm index cho các dòng dữ liệu: Do các giá trị trong cột `show_id` là các giá trị độc lập, không trùng lắp nên sẽ thuận tiện cho việc truy xuất từng bộ phim/chương trình truyền hình thông qua ID của chúng."
   ]
  },
  {
   "cell_type": "markdown",
   "metadata": {},
   "source": [
    "# 3. Khám phá dữ liêu:"
   ]
  },
  {
   "cell_type": "markdown",
   "metadata": {},
   "source": [
    "### 1. Số dòng, số cột của tập dữ liệu:"
   ]
  },
  {
   "cell_type": "code",
   "execution_count": 3,
   "metadata": {},
   "outputs": [
    {
     "name": "stdout",
     "output_type": "stream",
     "text": [
      "Số dòng của tập dữ liệu: 8809\n",
      "Số cột của tập dữ liệu: 25\n"
     ]
    }
   ],
   "source": [
    "# Số dòng, số cột\n",
    "row, column = netflix_df.shape\n",
    "print(f'Số dòng của tập dữ liệu: {row}')\n",
    "print(f'Số cột của tập dữ liệu: {column}')"
   ]
  },
  {
   "cell_type": "markdown",
   "metadata": {},
   "source": [
    "- Sau khi quan sát, nhóm nhận thấy những cột cuối là những cột trống nên ở đây nhóm sẽ thực hiện xoá các cột trống."
   ]
  },
  {
   "cell_type": "code",
   "execution_count": 4,
   "metadata": {},
   "outputs": [
    {
     "data": {
      "text/html": [
       "<div>\n",
       "<style scoped>\n",
       "    .dataframe tbody tr th:only-of-type {\n",
       "        vertical-align: middle;\n",
       "    }\n",
       "\n",
       "    .dataframe tbody tr th {\n",
       "        vertical-align: top;\n",
       "    }\n",
       "\n",
       "    .dataframe thead th {\n",
       "        text-align: right;\n",
       "    }\n",
       "</style>\n",
       "<table border=\"1\" class=\"dataframe\">\n",
       "  <thead>\n",
       "    <tr style=\"text-align: right;\">\n",
       "      <th></th>\n",
       "      <th>type</th>\n",
       "      <th>title</th>\n",
       "      <th>director</th>\n",
       "      <th>cast</th>\n",
       "      <th>country</th>\n",
       "      <th>date_added</th>\n",
       "      <th>release_year</th>\n",
       "      <th>rating</th>\n",
       "      <th>duration</th>\n",
       "      <th>listed_in</th>\n",
       "      <th>description</th>\n",
       "    </tr>\n",
       "    <tr>\n",
       "      <th>show_id</th>\n",
       "      <th></th>\n",
       "      <th></th>\n",
       "      <th></th>\n",
       "      <th></th>\n",
       "      <th></th>\n",
       "      <th></th>\n",
       "      <th></th>\n",
       "      <th></th>\n",
       "      <th></th>\n",
       "      <th></th>\n",
       "      <th></th>\n",
       "    </tr>\n",
       "  </thead>\n",
       "  <tbody>\n",
       "    <tr>\n",
       "      <th>s1</th>\n",
       "      <td>Movie</td>\n",
       "      <td>Dick Johnson Is Dead</td>\n",
       "      <td>Kirsten Johnson</td>\n",
       "      <td>NaN</td>\n",
       "      <td>United States</td>\n",
       "      <td>September 25, 2021</td>\n",
       "      <td>2020</td>\n",
       "      <td>PG-13</td>\n",
       "      <td>90 min</td>\n",
       "      <td>Documentaries</td>\n",
       "      <td>As her father nears the end of his life, filmm...</td>\n",
       "    </tr>\n",
       "    <tr>\n",
       "      <th>s2</th>\n",
       "      <td>TV Show</td>\n",
       "      <td>Blood &amp; Water</td>\n",
       "      <td>NaN</td>\n",
       "      <td>Ama Qamata, Khosi Ngema, Gail Mabalane, Thaban...</td>\n",
       "      <td>South Africa</td>\n",
       "      <td>September 24, 2021</td>\n",
       "      <td>2021</td>\n",
       "      <td>TV-MA</td>\n",
       "      <td>2 Seasons</td>\n",
       "      <td>International TV Shows, TV Dramas, TV Mysteries</td>\n",
       "      <td>After crossing paths at a party, a Cape Town t...</td>\n",
       "    </tr>\n",
       "    <tr>\n",
       "      <th>s3</th>\n",
       "      <td>TV Show</td>\n",
       "      <td>Ganglands</td>\n",
       "      <td>Julien Leclercq</td>\n",
       "      <td>Sami Bouajila, Tracy Gotoas, Samuel Jouy, Nabi...</td>\n",
       "      <td>NaN</td>\n",
       "      <td>September 24, 2021</td>\n",
       "      <td>2021</td>\n",
       "      <td>TV-MA</td>\n",
       "      <td>1 Season</td>\n",
       "      <td>Crime TV Shows, International TV Shows, TV Act...</td>\n",
       "      <td>To protect his family from a powerful drug lor...</td>\n",
       "    </tr>\n",
       "    <tr>\n",
       "      <th>s4</th>\n",
       "      <td>TV Show</td>\n",
       "      <td>Jailbirds New Orleans</td>\n",
       "      <td>NaN</td>\n",
       "      <td>NaN</td>\n",
       "      <td>NaN</td>\n",
       "      <td>September 24, 2021</td>\n",
       "      <td>2021</td>\n",
       "      <td>TV-MA</td>\n",
       "      <td>1 Season</td>\n",
       "      <td>Docuseries, Reality TV</td>\n",
       "      <td>Feuds, flirtations and toilet talk go down amo...</td>\n",
       "    </tr>\n",
       "    <tr>\n",
       "      <th>s5</th>\n",
       "      <td>TV Show</td>\n",
       "      <td>Kota Factory</td>\n",
       "      <td>NaN</td>\n",
       "      <td>Mayur More, Jitendra Kumar, Ranjan Raj, Alam K...</td>\n",
       "      <td>India</td>\n",
       "      <td>September 24, 2021</td>\n",
       "      <td>2021</td>\n",
       "      <td>TV-MA</td>\n",
       "      <td>2 Seasons</td>\n",
       "      <td>International TV Shows, Romantic TV Shows, TV ...</td>\n",
       "      <td>In a city of coaching centers known to train I...</td>\n",
       "    </tr>\n",
       "  </tbody>\n",
       "</table>\n",
       "</div>"
      ],
      "text/plain": [
       "            type                  title         director  \\\n",
       "show_id                                                    \n",
       "s1         Movie   Dick Johnson Is Dead  Kirsten Johnson   \n",
       "s2       TV Show          Blood & Water              NaN   \n",
       "s3       TV Show              Ganglands  Julien Leclercq   \n",
       "s4       TV Show  Jailbirds New Orleans              NaN   \n",
       "s5       TV Show           Kota Factory              NaN   \n",
       "\n",
       "                                                      cast        country  \\\n",
       "show_id                                                                     \n",
       "s1                                                     NaN  United States   \n",
       "s2       Ama Qamata, Khosi Ngema, Gail Mabalane, Thaban...   South Africa   \n",
       "s3       Sami Bouajila, Tracy Gotoas, Samuel Jouy, Nabi...            NaN   \n",
       "s4                                                     NaN            NaN   \n",
       "s5       Mayur More, Jitendra Kumar, Ranjan Raj, Alam K...          India   \n",
       "\n",
       "                 date_added  release_year rating   duration  \\\n",
       "show_id                                                       \n",
       "s1       September 25, 2021          2020  PG-13     90 min   \n",
       "s2       September 24, 2021          2021  TV-MA  2 Seasons   \n",
       "s3       September 24, 2021          2021  TV-MA   1 Season   \n",
       "s4       September 24, 2021          2021  TV-MA   1 Season   \n",
       "s5       September 24, 2021          2021  TV-MA  2 Seasons   \n",
       "\n",
       "                                                 listed_in  \\\n",
       "show_id                                                      \n",
       "s1                                           Documentaries   \n",
       "s2         International TV Shows, TV Dramas, TV Mysteries   \n",
       "s3       Crime TV Shows, International TV Shows, TV Act...   \n",
       "s4                                  Docuseries, Reality TV   \n",
       "s5       International TV Shows, Romantic TV Shows, TV ...   \n",
       "\n",
       "                                               description  \n",
       "show_id                                                     \n",
       "s1       As her father nears the end of his life, filmm...  \n",
       "s2       After crossing paths at a party, a Cape Town t...  \n",
       "s3       To protect his family from a powerful drug lor...  \n",
       "s4       Feuds, flirtations and toilet talk go down amo...  \n",
       "s5       In a city of coaching centers known to train I...  "
      ]
     },
     "execution_count": 4,
     "metadata": {},
     "output_type": "execute_result"
    }
   ],
   "source": [
    "# Xoá đi những cột có tất cả dòng có giá trị NaN\n",
    "netflix_df = netflix_df.dropna(how='all', axis=1)\n",
    "netflix_df.head()"
   ]
  },
  {
   "cell_type": "code",
   "execution_count": 5,
   "metadata": {},
   "outputs": [
    {
     "name": "stdout",
     "output_type": "stream",
     "text": [
      "Số dòng của tập dữ liệu sau khi loại bỏ các cột trống: 8809\n",
      "Số cột của tập dữ liệu sau khi loại bỏ các cột trống: 11\n"
     ]
    }
   ],
   "source": [
    "# Số dòng, số cột sau khi loại bỏ các cột trống\n",
    "row, column = netflix_df.shape\n",
    "print(f'Số dòng của tập dữ liệu sau khi loại bỏ các cột trống: {row}')\n",
    "print(f'Số cột của tập dữ liệu sau khi loại bỏ các cột trống: {column}')"
   ]
  },
  {
   "cell_type": "markdown",
   "metadata": {},
   "source": [
    "### 2. Ý nghĩa mỗi dòng/cột dữ liệu:"
   ]
  },
  {
   "cell_type": "markdown",
   "metadata": {},
   "source": [
    "#### Ý nghĩa mỗi dòng dữ liệu:"
   ]
  },
  {
   "cell_type": "markdown",
   "metadata": {},
   "source": [
    "- Mỗi dòng dữ liệu cung cấp thông tin chi tiết về một bộ phim hoặc chương trình truyền hình, với các nội dung riêng biệt và rõ ràng."
   ]
  },
  {
   "cell_type": "markdown",
   "metadata": {},
   "source": [
    "#### Ý nghĩa mỗi cột dữ liệu:"
   ]
  },
  {
   "cell_type": "markdown",
   "metadata": {},
   "source": [
    "- Mỗi cột dữ liệu cho biết những thông tin của một bộ phim hoặc chương trình truyền hình, bao gồm:\n",
    "    - type: Danh mục có thể là bộ phim hoặc chương trình truyền hình.\n",
    "    - title: Tựa đề của các bộ phim hoặc chương trình truyền hình.\n",
    "    - director: Đạo diễn của các bộ phim/chương trình truyền hình. Một số mục sẽ có giá trị NULL, đặc biệt với các chương trình truyền hình.\n",
    "    - cast: Danh sách các diễn viên chính.\n",
    "    - country: Quốc gia là nơi sản xuất phim/chương trình truyền hình.\n",
    "    - date_added: Ngày được đăng tải trên Netflix.\n",
    "    - release_year: Năm sản xuất của bộ phim hoặc chương trình truyền hình.\n",
    "    - Rating.\n",
    "    - duration: Thời lượng của các bộ phim/chương trình truyền hình. Được đo bằng phút đối với các bộ phim và phần đối với các chương trình truyền hình.\n",
    "    - listed_in: Thể loại mà tiêu đề thuộc về.\n",
    "    - description: Mô tả ngắn về bộ phim/chương trình truyền hình."
   ]
  },
  {
   "cell_type": "markdown",
   "metadata": {},
   "source": [
    "### 3. Kiểm tra các dòng trùng lặp:"
   ]
  },
  {
   "cell_type": "code",
   "execution_count": 6,
   "metadata": {},
   "outputs": [
    {
     "name": "stdout",
     "output_type": "stream",
     "text": [
      "Số dòng bị trùng lặp: 3\n"
     ]
    }
   ],
   "source": [
    "# Kiểm tra có tồn tại các dòng trùng lặp\n",
    "row_duplicates = netflix_df[netflix_df.duplicated()]\n",
    "print(f'Số dòng bị trùng lặp: {len(row_duplicates)}')"
   ]
  },
  {
   "cell_type": "markdown",
   "metadata": {},
   "source": [
    "- Như vậy trong tập dữ liệu có chứa các dòng trùng lặp.\n",
    "- Tiến hành xoá các dòng trùng lặp."
   ]
  },
  {
   "cell_type": "code",
   "execution_count": 7,
   "metadata": {},
   "outputs": [],
   "source": [
    "# Thực hiện xoá các dòng trùng lặp\n",
    "netflix_df = netflix_df.drop_duplicates()"
   ]
  },
  {
   "cell_type": "code",
   "execution_count": 8,
   "metadata": {},
   "outputs": [
    {
     "name": "stdout",
     "output_type": "stream",
     "text": [
      "Số dòng bị trùng lặp sau khi thực hiện xoá: 0\n"
     ]
    }
   ],
   "source": [
    "# Kiểm tra còn tồn tại các dòng trùng lặp hay không\n",
    "row_duplicates = netflix_df[netflix_df.duplicated()]\n",
    "print(f'Số dòng bị trùng lặp sau khi thực hiện xoá: {len(row_duplicates)}')"
   ]
  },
  {
   "cell_type": "markdown",
   "metadata": {},
   "source": [
    "- Không còn tồn tại dòng nào bị trùng dữ liệu."
   ]
  },
  {
   "cell_type": "markdown",
   "metadata": {},
   "source": [
    "### 4. Kiểu dữ liệu của các cột:"
   ]
  },
  {
   "cell_type": "code",
   "execution_count": 9,
   "metadata": {},
   "outputs": [
    {
     "data": {
      "text/plain": [
       "type            object\n",
       "title           object\n",
       "director        object\n",
       "cast            object\n",
       "country         object\n",
       "date_added      object\n",
       "release_year     int64\n",
       "rating          object\n",
       "duration        object\n",
       "listed_in       object\n",
       "description     object\n",
       "dtype: object"
      ]
     },
     "execution_count": 9,
     "metadata": {},
     "output_type": "execute_result"
    }
   ],
   "source": [
    "# Kiểm tra kiểu dữ liệu của từng cột\n",
    "netflix_df.dtypes"
   ]
  },
  {
   "cell_type": "markdown",
   "metadata": {},
   "source": [
    "- Có thể thấy giá trị của các cột gần như đã đúng hết. Nhưng để tiện sử dụng cho sau này thì nhóm sẽ thực hiện chuyển kiểu dữ liệu của cột dữ liệu `date_added` thành `datetime64` và cột `duration` vừa là đo bằng phút đối với các bộ phim vừa là phần đối với các chương trình truyền hình nên cần xử lý tách thành 2 cột riêng biệt để đảm bảo từng cột có một đơn vị đo khác nhau."
   ]
  },
  {
   "cell_type": "code",
   "execution_count": 10,
   "metadata": {},
   "outputs": [],
   "source": [
    "# Chuyển cột date_added thành kiểu datetime 64\n",
    "netflix_df['date_added'] = netflix_df['date_added'].str.strip() # Chuyển thành chuỗi để loại bỏ khoảng trắng ở đầu và cuối của chuỗi thời gian\n",
    "netflix_df['date_added'] = pd.to_datetime(netflix_df['date_added'])"
   ]
  },
  {
   "cell_type": "code",
   "execution_count": 11,
   "metadata": {},
   "outputs": [
    {
     "data": {
      "text/html": [
       "<div>\n",
       "<style scoped>\n",
       "    .dataframe tbody tr th:only-of-type {\n",
       "        vertical-align: middle;\n",
       "    }\n",
       "\n",
       "    .dataframe tbody tr th {\n",
       "        vertical-align: top;\n",
       "    }\n",
       "\n",
       "    .dataframe thead th {\n",
       "        text-align: right;\n",
       "    }\n",
       "</style>\n",
       "<table border=\"1\" class=\"dataframe\">\n",
       "  <thead>\n",
       "    <tr style=\"text-align: right;\">\n",
       "      <th></th>\n",
       "      <th>type</th>\n",
       "      <th>title</th>\n",
       "      <th>director</th>\n",
       "      <th>cast</th>\n",
       "      <th>country</th>\n",
       "      <th>date_added</th>\n",
       "      <th>release_year</th>\n",
       "      <th>rating</th>\n",
       "      <th>duration</th>\n",
       "      <th>listed_in</th>\n",
       "      <th>description</th>\n",
       "      <th>season</th>\n",
       "      <th>duration1</th>\n",
       "    </tr>\n",
       "    <tr>\n",
       "      <th>show_id</th>\n",
       "      <th></th>\n",
       "      <th></th>\n",
       "      <th></th>\n",
       "      <th></th>\n",
       "      <th></th>\n",
       "      <th></th>\n",
       "      <th></th>\n",
       "      <th></th>\n",
       "      <th></th>\n",
       "      <th></th>\n",
       "      <th></th>\n",
       "      <th></th>\n",
       "      <th></th>\n",
       "    </tr>\n",
       "  </thead>\n",
       "  <tbody>\n",
       "    <tr>\n",
       "      <th>s1</th>\n",
       "      <td>Movie</td>\n",
       "      <td>Dick Johnson Is Dead</td>\n",
       "      <td>Kirsten Johnson</td>\n",
       "      <td>NaN</td>\n",
       "      <td>United States</td>\n",
       "      <td>2021-09-25</td>\n",
       "      <td>2020</td>\n",
       "      <td>PG-13</td>\n",
       "      <td>90 min</td>\n",
       "      <td>Documentaries</td>\n",
       "      <td>As her father nears the end of his life, filmm...</td>\n",
       "      <td>NaN</td>\n",
       "      <td>90</td>\n",
       "    </tr>\n",
       "    <tr>\n",
       "      <th>s2</th>\n",
       "      <td>TV Show</td>\n",
       "      <td>Blood &amp; Water</td>\n",
       "      <td>NaN</td>\n",
       "      <td>Ama Qamata, Khosi Ngema, Gail Mabalane, Thaban...</td>\n",
       "      <td>South Africa</td>\n",
       "      <td>2021-09-24</td>\n",
       "      <td>2021</td>\n",
       "      <td>TV-MA</td>\n",
       "      <td>2 Seasons</td>\n",
       "      <td>International TV Shows, TV Dramas, TV Mysteries</td>\n",
       "      <td>After crossing paths at a party, a Cape Town t...</td>\n",
       "      <td>2</td>\n",
       "      <td>NaN</td>\n",
       "    </tr>\n",
       "    <tr>\n",
       "      <th>s3</th>\n",
       "      <td>TV Show</td>\n",
       "      <td>Ganglands</td>\n",
       "      <td>Julien Leclercq</td>\n",
       "      <td>Sami Bouajila, Tracy Gotoas, Samuel Jouy, Nabi...</td>\n",
       "      <td>NaN</td>\n",
       "      <td>2021-09-24</td>\n",
       "      <td>2021</td>\n",
       "      <td>TV-MA</td>\n",
       "      <td>1 Season</td>\n",
       "      <td>Crime TV Shows, International TV Shows, TV Act...</td>\n",
       "      <td>To protect his family from a powerful drug lor...</td>\n",
       "      <td>1</td>\n",
       "      <td>NaN</td>\n",
       "    </tr>\n",
       "    <tr>\n",
       "      <th>s4</th>\n",
       "      <td>TV Show</td>\n",
       "      <td>Jailbirds New Orleans</td>\n",
       "      <td>NaN</td>\n",
       "      <td>NaN</td>\n",
       "      <td>NaN</td>\n",
       "      <td>2021-09-24</td>\n",
       "      <td>2021</td>\n",
       "      <td>TV-MA</td>\n",
       "      <td>1 Season</td>\n",
       "      <td>Docuseries, Reality TV</td>\n",
       "      <td>Feuds, flirtations and toilet talk go down amo...</td>\n",
       "      <td>1</td>\n",
       "      <td>NaN</td>\n",
       "    </tr>\n",
       "    <tr>\n",
       "      <th>s5</th>\n",
       "      <td>TV Show</td>\n",
       "      <td>Kota Factory</td>\n",
       "      <td>NaN</td>\n",
       "      <td>Mayur More, Jitendra Kumar, Ranjan Raj, Alam K...</td>\n",
       "      <td>India</td>\n",
       "      <td>2021-09-24</td>\n",
       "      <td>2021</td>\n",
       "      <td>TV-MA</td>\n",
       "      <td>2 Seasons</td>\n",
       "      <td>International TV Shows, Romantic TV Shows, TV ...</td>\n",
       "      <td>In a city of coaching centers known to train I...</td>\n",
       "      <td>2</td>\n",
       "      <td>NaN</td>\n",
       "    </tr>\n",
       "    <tr>\n",
       "      <th>...</th>\n",
       "      <td>...</td>\n",
       "      <td>...</td>\n",
       "      <td>...</td>\n",
       "      <td>...</td>\n",
       "      <td>...</td>\n",
       "      <td>...</td>\n",
       "      <td>...</td>\n",
       "      <td>...</td>\n",
       "      <td>...</td>\n",
       "      <td>...</td>\n",
       "      <td>...</td>\n",
       "      <td>...</td>\n",
       "      <td>...</td>\n",
       "    </tr>\n",
       "    <tr>\n",
       "      <th>s8805</th>\n",
       "      <td>Movie</td>\n",
       "      <td>Zombieland</td>\n",
       "      <td>Ruben Fleischer</td>\n",
       "      <td>Jesse Eisenberg, Woody Harrelson, Emma Stone, ...</td>\n",
       "      <td>United States</td>\n",
       "      <td>2019-11-01</td>\n",
       "      <td>2009</td>\n",
       "      <td>R</td>\n",
       "      <td>88 min</td>\n",
       "      <td>Comedies, Horror Movies</td>\n",
       "      <td>Looking to survive in a world taken over by zo...</td>\n",
       "      <td>NaN</td>\n",
       "      <td>88</td>\n",
       "    </tr>\n",
       "    <tr>\n",
       "      <th>s8806</th>\n",
       "      <td>Movie</td>\n",
       "      <td>Zoom</td>\n",
       "      <td>Peter Hewitt</td>\n",
       "      <td>Tim Allen, Courteney Cox, Chevy Chase, Kate Ma...</td>\n",
       "      <td>United States</td>\n",
       "      <td>2020-01-11</td>\n",
       "      <td>2006</td>\n",
       "      <td>PG</td>\n",
       "      <td>88 min</td>\n",
       "      <td>Children &amp; Family Movies, Comedies</td>\n",
       "      <td>Dragged from civilian life, a former superhero...</td>\n",
       "      <td>NaN</td>\n",
       "      <td>88</td>\n",
       "    </tr>\n",
       "    <tr>\n",
       "      <th>s8807</th>\n",
       "      <td>Movie</td>\n",
       "      <td>Zubaan</td>\n",
       "      <td>Mozez Singh</td>\n",
       "      <td>Vicky Kaushal, Sarah-Jane Dias, Raaghav Chanan...</td>\n",
       "      <td>India</td>\n",
       "      <td>2019-03-02</td>\n",
       "      <td>2015</td>\n",
       "      <td>TV-14</td>\n",
       "      <td>111 min</td>\n",
       "      <td>Dramas, International Movies, Music &amp; Musicals</td>\n",
       "      <td>A scrappy but poor boy worms his way into a ty...</td>\n",
       "      <td>NaN</td>\n",
       "      <td>111</td>\n",
       "    </tr>\n",
       "    <tr>\n",
       "      <th>s8808</th>\n",
       "      <td>TV Show</td>\n",
       "      <td>Parasyte: The Grey</td>\n",
       "      <td>Yeon Sang-ho</td>\n",
       "      <td>Shin Hyun-been, Jeon Yeo-bin, Goo Kyo-hwan</td>\n",
       "      <td>South Korea</td>\n",
       "      <td>2024-04-05</td>\n",
       "      <td>2024</td>\n",
       "      <td>TV-MA</td>\n",
       "      <td>1 Season</td>\n",
       "      <td>Sci-fi, Horror, Action</td>\n",
       "      <td>A new breed of parasitic aliens arrive on Eart...</td>\n",
       "      <td>1</td>\n",
       "      <td>NaN</td>\n",
       "    </tr>\n",
       "    <tr>\n",
       "      <th>s8809</th>\n",
       "      <td>Movie</td>\n",
       "      <td>Serena</td>\n",
       "      <td>Susanne Bier</td>\n",
       "      <td>Bradley Cooper, Jennifer Lawrence, Toby Jones,...</td>\n",
       "      <td>United States</td>\n",
       "      <td>2024-04-05</td>\n",
       "      <td>2014</td>\n",
       "      <td>A</td>\n",
       "      <td>110 min</td>\n",
       "      <td>Drama, Romance, Thriller</td>\n",
       "      <td>In the 1920s, a newly married couple attempt t...</td>\n",
       "      <td>NaN</td>\n",
       "      <td>110</td>\n",
       "    </tr>\n",
       "  </tbody>\n",
       "</table>\n",
       "<p>8806 rows × 13 columns</p>\n",
       "</div>"
      ],
      "text/plain": [
       "            type                  title         director  \\\n",
       "show_id                                                    \n",
       "s1         Movie   Dick Johnson Is Dead  Kirsten Johnson   \n",
       "s2       TV Show          Blood & Water              NaN   \n",
       "s3       TV Show              Ganglands  Julien Leclercq   \n",
       "s4       TV Show  Jailbirds New Orleans              NaN   \n",
       "s5       TV Show           Kota Factory              NaN   \n",
       "...          ...                    ...              ...   \n",
       "s8805      Movie             Zombieland  Ruben Fleischer   \n",
       "s8806      Movie                   Zoom     Peter Hewitt   \n",
       "s8807      Movie                 Zubaan      Mozez Singh   \n",
       "s8808    TV Show     Parasyte: The Grey     Yeon Sang-ho   \n",
       "s8809      Movie                 Serena     Susanne Bier   \n",
       "\n",
       "                                                      cast        country  \\\n",
       "show_id                                                                     \n",
       "s1                                                     NaN  United States   \n",
       "s2       Ama Qamata, Khosi Ngema, Gail Mabalane, Thaban...   South Africa   \n",
       "s3       Sami Bouajila, Tracy Gotoas, Samuel Jouy, Nabi...            NaN   \n",
       "s4                                                     NaN            NaN   \n",
       "s5       Mayur More, Jitendra Kumar, Ranjan Raj, Alam K...          India   \n",
       "...                                                    ...            ...   \n",
       "s8805    Jesse Eisenberg, Woody Harrelson, Emma Stone, ...  United States   \n",
       "s8806    Tim Allen, Courteney Cox, Chevy Chase, Kate Ma...  United States   \n",
       "s8807    Vicky Kaushal, Sarah-Jane Dias, Raaghav Chanan...          India   \n",
       "s8808           Shin Hyun-been, Jeon Yeo-bin, Goo Kyo-hwan    South Korea   \n",
       "s8809    Bradley Cooper, Jennifer Lawrence, Toby Jones,...  United States   \n",
       "\n",
       "        date_added  release_year rating   duration  \\\n",
       "show_id                                              \n",
       "s1      2021-09-25          2020  PG-13     90 min   \n",
       "s2      2021-09-24          2021  TV-MA  2 Seasons   \n",
       "s3      2021-09-24          2021  TV-MA   1 Season   \n",
       "s4      2021-09-24          2021  TV-MA   1 Season   \n",
       "s5      2021-09-24          2021  TV-MA  2 Seasons   \n",
       "...            ...           ...    ...        ...   \n",
       "s8805   2019-11-01          2009      R     88 min   \n",
       "s8806   2020-01-11          2006     PG     88 min   \n",
       "s8807   2019-03-02          2015  TV-14    111 min   \n",
       "s8808   2024-04-05          2024  TV-MA   1 Season   \n",
       "s8809   2024-04-05          2014      A    110 min   \n",
       "\n",
       "                                                 listed_in  \\\n",
       "show_id                                                      \n",
       "s1                                           Documentaries   \n",
       "s2         International TV Shows, TV Dramas, TV Mysteries   \n",
       "s3       Crime TV Shows, International TV Shows, TV Act...   \n",
       "s4                                  Docuseries, Reality TV   \n",
       "s5       International TV Shows, Romantic TV Shows, TV ...   \n",
       "...                                                    ...   \n",
       "s8805                              Comedies, Horror Movies   \n",
       "s8806                   Children & Family Movies, Comedies   \n",
       "s8807       Dramas, International Movies, Music & Musicals   \n",
       "s8808                               Sci-fi, Horror, Action   \n",
       "s8809                             Drama, Romance, Thriller   \n",
       "\n",
       "                                               description season duration1  \n",
       "show_id                                                                      \n",
       "s1       As her father nears the end of his life, filmm...    NaN        90  \n",
       "s2       After crossing paths at a party, a Cape Town t...      2       NaN  \n",
       "s3       To protect his family from a powerful drug lor...      1       NaN  \n",
       "s4       Feuds, flirtations and toilet talk go down amo...      1       NaN  \n",
       "s5       In a city of coaching centers known to train I...      2       NaN  \n",
       "...                                                    ...    ...       ...  \n",
       "s8805    Looking to survive in a world taken over by zo...    NaN        88  \n",
       "s8806    Dragged from civilian life, a former superhero...    NaN        88  \n",
       "s8807    A scrappy but poor boy worms his way into a ty...    NaN       111  \n",
       "s8808    A new breed of parasitic aliens arrive on Eart...      1       NaN  \n",
       "s8809    In the 1920s, a newly married couple attempt t...    NaN       110  \n",
       "\n",
       "[8806 rows x 13 columns]"
      ]
     },
     "execution_count": 11,
     "metadata": {},
     "output_type": "execute_result"
    }
   ],
   "source": [
    "# Tách cột duration thành 2 cột riêng biệt\n",
    "movie_df = netflix_df[netflix_df['type'] == 'Movie']\n",
    "movie_df = movie_df['duration'].str.extract(r'(\\d+)\\s*(\\w+)')[0].rename('duration1')\n",
    "tv_df = netflix_df[netflix_df['type'] == 'TV Show']\n",
    "tv_df = tv_df['duration'].str.extract(r'(\\d+)\\s*(\\w+)')[0].rename('season')\n",
    "netflix_df = netflix_df.join([tv_df,movie_df])\n",
    "netflix_df"
   ]
  },
  {
   "cell_type": "code",
   "execution_count": 12,
   "metadata": {},
   "outputs": [],
   "source": [
    "# Xoá cột duration ban đầu\n",
    "netflix_df = netflix_df.drop('duration', axis=1)\n",
    "# Đổi tên cột duration1 tức là cột duration mới\n",
    "netflix_df = netflix_df.rename(columns={'duration1': 'duration'})"
   ]
  },
  {
   "cell_type": "code",
   "execution_count": 13,
   "metadata": {},
   "outputs": [
    {
     "data": {
      "text/plain": [
       "type                    object\n",
       "title                   object\n",
       "director                object\n",
       "cast                    object\n",
       "country                 object\n",
       "date_added      datetime64[ns]\n",
       "release_year             int64\n",
       "rating                  object\n",
       "listed_in               object\n",
       "description             object\n",
       "season                  object\n",
       "duration                object\n",
       "dtype: object"
      ]
     },
     "execution_count": 13,
     "metadata": {},
     "output_type": "execute_result"
    }
   ],
   "source": [
    "# Kiểm tra lại kiểu dữ liệu của từng cột\n",
    "netflix_df.dtypes"
   ]
  },
  {
   "cell_type": "markdown",
   "metadata": {},
   "source": [
    "- Sau khi tách cột duration ban đầu thành 2 cột: 1 cột season dành cho số phần của các chương trình truyền hình và 1 cột duration mới dành cho thời lượng của các bộ phim (đơn vị: Phút)\n",
    "- Nhưng kiểu dữ liệu ở 2 cột vẫn chưa phù hợp với ngữ nghĩa, cần chuyển thành kiểu `float64` do có tồn tại giá trị `NaN`.\n",
    "    - Giải thích cho giá trị `NaN` có tồn tại trong 2 cột dữ liệu: Do đối với các bộ phim thì cột season sẽ có giá trị `NaN` vì season chỉ dành cho các bộ phim truyền hình, và ngược lại."
   ]
  },
  {
   "cell_type": "code",
   "execution_count": 14,
   "metadata": {},
   "outputs": [],
   "source": [
    "# Chuyển cột 'duration' và 'season' thành kiểu int\n",
    "netflix_df['duration'] = netflix_df['duration'].astype('float')\n",
    "netflix_df['season'] = netflix_df['season'].astype('float')"
   ]
  },
  {
   "cell_type": "code",
   "execution_count": 15,
   "metadata": {},
   "outputs": [
    {
     "data": {
      "text/plain": [
       "type                    object\n",
       "title                   object\n",
       "director                object\n",
       "cast                    object\n",
       "country                 object\n",
       "date_added      datetime64[ns]\n",
       "release_year             int64\n",
       "rating                  object\n",
       "listed_in               object\n",
       "description             object\n",
       "season                 float64\n",
       "duration               float64\n",
       "dtype: object"
      ]
     },
     "execution_count": 15,
     "metadata": {},
     "output_type": "execute_result"
    }
   ],
   "source": [
    "# Kiểm tra lại kiểu dữ liệu của từng cột\n",
    "netflix_df.dtypes"
   ]
  },
  {
   "cell_type": "markdown",
   "metadata": {},
   "source": [
    "- Như vậy, các cột dữ liệu đã có kiểu dữ liệu phù hợp với ngữ nghĩa của chúng."
   ]
  },
  {
   "cell_type": "markdown",
   "metadata": {},
   "source": [
    "### 5. Phân bố của các cột dữ liệu"
   ]
  },
  {
   "cell_type": "markdown",
   "metadata": {},
   "source": [
    "#### 5.1. Cột dữ liệu dạng số"
   ]
  },
  {
   "cell_type": "code",
   "execution_count": 16,
   "metadata": {},
   "outputs": [
    {
     "data": {
      "text/plain": [
       "Index(['release_year', 'season', 'duration'], dtype='object')"
      ]
     },
     "execution_count": 16,
     "metadata": {},
     "output_type": "execute_result"
    }
   ],
   "source": [
    "# Lấy ra các cột numerical\n",
    "numeric_columns = netflix_df.select_dtypes(include='number').columns[:]\n",
    "numeric_columns"
   ]
  },
  {
   "cell_type": "markdown",
   "metadata": {},
   "source": [
    "Ta xem xét tỉ lệ giá trị bị thiếu trong các cột:"
   ]
  },
  {
   "cell_type": "code",
   "execution_count": 17,
   "metadata": {},
   "outputs": [
    {
     "name": "stdout",
     "output_type": "stream",
     "text": [
      "Phần trăm giá trị còn thiếu của cột 'release_year' là 0.00%\n",
      "Phần trăm giá trị còn thiếu của cột 'season' là 69.61%\n",
      "Phần trăm giá trị còn thiếu của cột 'duration' là 30.42%\n"
     ]
    }
   ],
   "source": [
    "percentage_missing_dic = {}\n",
    "for col in numeric_columns:\n",
    "    percentage_missing = netflix_df[col].isna().mean() * 100\n",
    "    percentage_missing_dic[col] = percentage_missing\n",
    "    print(f'Phần trăm giá trị còn thiếu của cột \\'{col}\\' là {percentage_missing:.2f}%')"
   ]
  },
  {
   "cell_type": "markdown",
   "metadata": {},
   "source": [
    "Vì trong dữ liệu, phim điện ảnh chỉ có thời lượng (số phút), phim truyền hình chỉ có số mùa, nên khi tách ra 2 cột sẽ tạo giá trị null 2. Với cột season, giá trị null đến từ phim điện ảnh, nó không có số mùa. Với cột duration, giá trị null đến từ phim truyền hình, nó không có thời lượng cụ thể. Để đảm bảo không đưa ra các giả định không cần thiết khi số mùa không đóng vai trò quan trọng với phim điện ảnh và thời lượng không đóng vai trò quan trọng đối với chương trình truyền hình nên những giá trị null được giữ lại."
   ]
  },
  {
   "cell_type": "markdown",
   "metadata": {},
   "source": [
    "**Tiếp theo ta xem qua mô tả của các cột có dữ liệu dạng số xem có gì bất thường không (tối thiểu, tối đa)**"
   ]
  },
  {
   "cell_type": "code",
   "execution_count": 18,
   "metadata": {},
   "outputs": [
    {
     "data": {
      "text/html": [
       "<div>\n",
       "<style scoped>\n",
       "    .dataframe tbody tr th:only-of-type {\n",
       "        vertical-align: middle;\n",
       "    }\n",
       "\n",
       "    .dataframe tbody tr th {\n",
       "        vertical-align: top;\n",
       "    }\n",
       "\n",
       "    .dataframe thead th {\n",
       "        text-align: right;\n",
       "    }\n",
       "</style>\n",
       "<table border=\"1\" class=\"dataframe\">\n",
       "  <thead>\n",
       "    <tr style=\"text-align: right;\">\n",
       "      <th></th>\n",
       "      <th>release_year</th>\n",
       "      <th>season</th>\n",
       "      <th>duration</th>\n",
       "    </tr>\n",
       "  </thead>\n",
       "  <tbody>\n",
       "    <tr>\n",
       "      <th>count</th>\n",
       "      <td>8806.000000</td>\n",
       "      <td>2676.000000</td>\n",
       "      <td>6127.000000</td>\n",
       "    </tr>\n",
       "    <tr>\n",
       "      <th>mean</th>\n",
       "      <td>2014.179877</td>\n",
       "      <td>1.764948</td>\n",
       "      <td>99.567651</td>\n",
       "    </tr>\n",
       "    <tr>\n",
       "      <th>std</th>\n",
       "      <td>8.820097</td>\n",
       "      <td>1.582752</td>\n",
       "      <td>28.285800</td>\n",
       "    </tr>\n",
       "    <tr>\n",
       "      <th>min</th>\n",
       "      <td>1925.000000</td>\n",
       "      <td>1.000000</td>\n",
       "      <td>3.000000</td>\n",
       "    </tr>\n",
       "    <tr>\n",
       "      <th>25%</th>\n",
       "      <td>2013.000000</td>\n",
       "      <td>1.000000</td>\n",
       "      <td>87.000000</td>\n",
       "    </tr>\n",
       "    <tr>\n",
       "      <th>50%</th>\n",
       "      <td>2017.000000</td>\n",
       "      <td>1.000000</td>\n",
       "      <td>98.000000</td>\n",
       "    </tr>\n",
       "    <tr>\n",
       "      <th>75%</th>\n",
       "      <td>2019.000000</td>\n",
       "      <td>2.000000</td>\n",
       "      <td>114.000000</td>\n",
       "    </tr>\n",
       "    <tr>\n",
       "      <th>max</th>\n",
       "      <td>2024.000000</td>\n",
       "      <td>17.000000</td>\n",
       "      <td>312.000000</td>\n",
       "    </tr>\n",
       "  </tbody>\n",
       "</table>\n",
       "</div>"
      ],
      "text/plain": [
       "       release_year       season     duration\n",
       "count   8806.000000  2676.000000  6127.000000\n",
       "mean    2014.179877     1.764948    99.567651\n",
       "std        8.820097     1.582752    28.285800\n",
       "min     1925.000000     1.000000     3.000000\n",
       "25%     2013.000000     1.000000    87.000000\n",
       "50%     2017.000000     1.000000    98.000000\n",
       "75%     2019.000000     2.000000   114.000000\n",
       "max     2024.000000    17.000000   312.000000"
      ]
     },
     "execution_count": 18,
     "metadata": {},
     "output_type": "execute_result"
    }
   ],
   "source": [
    "netflix_df.describe()"
   ]
  },
  {
   "cell_type": "markdown",
   "metadata": {},
   "source": [
    "Ta xem xét từng cột và nhận xét:\n",
    "- release_year có giá trị từ 1925 đến 2024, là thời gian năm phù hợp.\n",
    "- season có giá trị từ 1 đến 17, là số mùa phù hợp cho các phim truyền hình. Số mùa trung ình là 1 cho thấy rằng max khá xa so với giá trị trung bình.\n",
    "- duration có giá trị từ 3 đến 312 phút, có sự chênh lệch khá lớn.\n",
    "- Các cột đều có khoảng giá trị phù hợp với ý nghĩa từng cột."
   ]
  },
  {
   "cell_type": "markdown",
   "metadata": {},
   "source": [
    "#### 5.2. Cột dữ liệu dạng phân loại"
   ]
  },
  {
   "cell_type": "markdown",
   "metadata": {},
   "source": [
    "Ở phần này sẽ có 2 dạng:\n",
    "- Cột có giá trị đơn: type, title, director, date_added, rating, description.\n",
    "- Cột có nhiều giá trị: cast, country, listed_in."
   ]
  },
  {
   "cell_type": "markdown",
   "metadata": {},
   "source": [
    "**Xử lý cột giá trị đơn**"
   ]
  },
  {
   "cell_type": "code",
   "execution_count": null,
   "metadata": {},
   "outputs": [],
   "source": [
    "# Lấy các cột đơn giá trí\n",
    "single_columns = ['type', 'title', 'director', 'date_added', 'rating', 'description']"
   ]
  },
  {
   "cell_type": "code",
   "execution_count": null,
   "metadata": {},
   "outputs": [
    {
     "name": "stdout",
     "output_type": "stream",
     "text": [
      "Phần trăm giá trị còn thiếu của cột 'type' là 0.00%\n",
      "Phần trăm giá trị còn thiếu của cột 'title' là 0.00%\n",
      "Phần trăm giá trị còn thiếu của cột 'director' là 29.90%\n",
      "Phần trăm giá trị còn thiếu của cột 'date_added' là 0.11%\n",
      "Phần trăm giá trị còn thiếu của cột 'rating' là 0.05%\n",
      "Phần trăm giá trị còn thiếu của cột 'description' là 0.00%\n"
     ]
    }
   ],
   "source": [
    "# Tính giá trị thiếu cho các cột đơn giá trị\n",
    "for col in single_columns:\n",
    "    percentage_missing = netflix_df[col].isna().mean() * 100\n",
    "    percentage_missing_dic[col] = percentage_missing\n",
    "    print(f'Phần trăm giá trị còn thiếu của cột \\'{col}\\' là {percentage_missing:.2f}%')"
   ]
  },
  {
   "cell_type": "markdown",
   "metadata": {},
   "source": [
    "Ta thấy các cột này có giá trị thiếu rất ít có thể do các dữ liệu này là các thông tin cơ bản của một nội dung giải trí nên hầu như tất cả các nội dung được sản xuất đều phải có các thông tin này."
   ]
  },
  {
   "cell_type": "code",
   "execution_count": null,
   "metadata": {},
   "outputs": [
    {
     "data": {
      "text/html": [
       "<div>\n",
       "<style scoped>\n",
       "    .dataframe tbody tr th:only-of-type {\n",
       "        vertical-align: middle;\n",
       "    }\n",
       "\n",
       "    .dataframe tbody tr th {\n",
       "        vertical-align: top;\n",
       "    }\n",
       "\n",
       "    .dataframe thead th {\n",
       "        text-align: right;\n",
       "    }\n",
       "</style>\n",
       "<table border=\"1\" class=\"dataframe\">\n",
       "  <thead>\n",
       "    <tr style=\"text-align: right;\">\n",
       "      <th></th>\n",
       "      <th>type</th>\n",
       "      <th>title</th>\n",
       "      <th>director</th>\n",
       "      <th>date_added</th>\n",
       "      <th>rating</th>\n",
       "      <th>description</th>\n",
       "    </tr>\n",
       "  </thead>\n",
       "  <tbody>\n",
       "    <tr>\n",
       "      <th>num_diff_vals</th>\n",
       "      <td>2</td>\n",
       "      <td>8806</td>\n",
       "      <td>4529</td>\n",
       "      <td>1715</td>\n",
       "      <td>18</td>\n",
       "      <td>8777</td>\n",
       "    </tr>\n",
       "    <tr>\n",
       "      <th>distribution</th>\n",
       "      <td>{'Movie': 6130, 'TV Show': 2676}</td>\n",
       "      <td>{'Dick Johnson Is Dead': 1, 'Ip Man': 1, 'Care...</td>\n",
       "      <td>{'Rajiv Chilaka': 19, 'RaÃºl Campos, Jan Suter...</td>\n",
       "      <td>{2020-01-01 00:00:00: 110, 2019-11-01 00:00:00...</td>\n",
       "      <td>{'TV-MA': 3208, 'TV-14': 2158, 'TV-PG': 863, '...</td>\n",
       "      <td>{'Paranormal activity at a lush, abandoned pro...</td>\n",
       "    </tr>\n",
       "  </tbody>\n",
       "</table>\n",
       "</div>"
      ],
      "text/plain": [
       "                                           type  \\\n",
       "num_diff_vals                                 2   \n",
       "distribution   {'Movie': 6130, 'TV Show': 2676}   \n",
       "\n",
       "                                                           title  \\\n",
       "num_diff_vals                                               8806   \n",
       "distribution   {'Dick Johnson Is Dead': 1, 'Ip Man': 1, 'Care...   \n",
       "\n",
       "                                                        director  \\\n",
       "num_diff_vals                                               4529   \n",
       "distribution   {'Rajiv Chilaka': 19, 'RaÃºl Campos, Jan Suter...   \n",
       "\n",
       "                                                      date_added  \\\n",
       "num_diff_vals                                               1715   \n",
       "distribution   {2020-01-01 00:00:00: 110, 2019-11-01 00:00:00...   \n",
       "\n",
       "                                                          rating  \\\n",
       "num_diff_vals                                                 18   \n",
       "distribution   {'TV-MA': 3208, 'TV-14': 2158, 'TV-PG': 863, '...   \n",
       "\n",
       "                                                     description  \n",
       "num_diff_vals                                               8777  \n",
       "distribution   {'Paranormal activity at a lush, abandoned pro...  "
      ]
     },
     "execution_count": 25,
     "metadata": {},
     "output_type": "execute_result"
    }
   ],
   "source": [
    "# Lưu số lượng các giá trị khác nhau và đếm số lượng từng loại single_cate_profile\n",
    "single_cate_profile = pd.DataFrame(index=[\"num_diff_vals\", \"distribution\"])\n",
    "num_diff_vals = netflix_df[single_columns].nunique()\n",
    "distribution = netflix_df[single_columns].agg(lambda column: pd.Series(column).value_counts().to_dict())\n",
    "single_cate_profile[single_columns] = [num_diff_vals, distribution]\n",
    "\n",
    "single_cate_profile"
   ]
  },
  {
   "cell_type": "markdown",
   "metadata": {},
   "source": [
    "Các cột đều có giá trị không có gì bất thường.\n",
    "\n",
    "Có tổng cộng 2 loại hình, 8806 tiêu đề, 4529 đạo diễn, 1715 ngày thêm, 18 rating, 8777 mô tả."
   ]
  },
  {
   "cell_type": "markdown",
   "metadata": {},
   "source": [
    "**Xử lý cột đa giá trị**"
   ]
  },
  {
   "cell_type": "code",
   "execution_count": 27,
   "metadata": {},
   "outputs": [],
   "source": [
    "# Lấy các cột đa giá trị\n",
    "multi_columns = ['cast', 'country', 'listed_in']"
   ]
  },
  {
   "cell_type": "code",
   "execution_count": 28,
   "metadata": {},
   "outputs": [
    {
     "name": "stdout",
     "output_type": "stream",
     "text": [
      "Phần trăm giá trị còn thiếu của cột 'cast' là 9.37%\n",
      "Phần trăm giá trị còn thiếu của cột 'country' là 9.43%\n",
      "Phần trăm giá trị còn thiếu của cột 'listed_in' là 0.00%\n"
     ]
    }
   ],
   "source": [
    "# Tính giá trị thiếu của các cột đa giá trị\n",
    "for col in multi_columns:\n",
    "    percentage_missing = netflix_df[col].isna().mean() * 100\n",
    "    percentage_missing_dic[col] = percentage_missing\n",
    "    print(f'Phần trăm giá trị còn thiếu của cột \\'{col}\\' là {percentage_missing:.2f}%')"
   ]
  },
  {
   "cell_type": "markdown",
   "metadata": {},
   "source": [
    "Ta thấy các cột này có giá trị thiếu rất ít."
   ]
  },
  {
   "cell_type": "code",
   "execution_count": 29,
   "metadata": {},
   "outputs": [
    {
     "data": {
      "text/html": [
       "<div>\n",
       "<style scoped>\n",
       "    .dataframe tbody tr th:only-of-type {\n",
       "        vertical-align: middle;\n",
       "    }\n",
       "\n",
       "    .dataframe tbody tr th {\n",
       "        vertical-align: top;\n",
       "    }\n",
       "\n",
       "    .dataframe thead th {\n",
       "        text-align: right;\n",
       "    }\n",
       "</style>\n",
       "<table border=\"1\" class=\"dataframe\">\n",
       "  <thead>\n",
       "    <tr style=\"text-align: right;\">\n",
       "      <th></th>\n",
       "      <th>cast</th>\n",
       "      <th>country</th>\n",
       "      <th>listed_in</th>\n",
       "    </tr>\n",
       "  </thead>\n",
       "  <tbody>\n",
       "    <tr>\n",
       "      <th>num_diff_vals</th>\n",
       "      <td>36466</td>\n",
       "      <td>127</td>\n",
       "      <td>48</td>\n",
       "    </tr>\n",
       "    <tr>\n",
       "      <th>distribution</th>\n",
       "      <td>{'Anupam Kher': 43, 'Shah Rukh Khan': 35, 'Jul...</td>\n",
       "      <td>{'United States': 3689, 'India': 1045, 'United...</td>\n",
       "      <td>{'International Movies': 2752, 'Dramas': 2425,...</td>\n",
       "    </tr>\n",
       "  </tbody>\n",
       "</table>\n",
       "</div>"
      ],
      "text/plain": [
       "                                                            cast  \\\n",
       "num_diff_vals                                              36466   \n",
       "distribution   {'Anupam Kher': 43, 'Shah Rukh Khan': 35, 'Jul...   \n",
       "\n",
       "                                                         country  \\\n",
       "num_diff_vals                                                127   \n",
       "distribution   {'United States': 3689, 'India': 1045, 'United...   \n",
       "\n",
       "                                                       listed_in  \n",
       "num_diff_vals                                                 48  \n",
       "distribution   {'International Movies': 2752, 'Dramas': 2425,...  "
      ]
     },
     "execution_count": 29,
     "metadata": {},
     "output_type": "execute_result"
    }
   ],
   "source": [
    "# Lưu số lượng giá trị khác nhau và đếm số lượng từng loại và lưu vào mảng\n",
    "\n",
    "# Tạo dataframe kết quả\n",
    "def split_and_melt(column):\n",
    "    df_split = column.str.split(', ', expand=True).melt().drop('variable', axis=1)\n",
    "    return df_split['value']\n",
    "long_df = netflix_df[multi_columns].agg(split_and_melt)\n",
    "distribution = long_df.agg(lambda column: pd.Series(column).value_counts().to_dict())\n",
    "num_diff_vals = long_df.nunique()\n",
    "\n",
    "# Lưu và đếm\n",
    "multiple_cate_profile = pd.DataFrame(index=[\"num_diff_vals\", \"distribution\"])\n",
    "multiple_cate_profile[multi_columns] = [num_diff_vals, distribution]\n",
    "\n",
    "multiple_cate_profile"
   ]
  },
  {
   "cell_type": "markdown",
   "metadata": {},
   "source": [
    "Ta có thể trích xuất cột thể loại để xem thử"
   ]
  },
  {
   "cell_type": "code",
   "execution_count": 30,
   "metadata": {},
   "outputs": [
    {
     "data": {
      "text/plain": [
       "{'International Movies': 2752,\n",
       " 'Dramas': 2425,\n",
       " 'Comedies': 1673,\n",
       " 'International TV Shows': 1350,\n",
       " 'Documentaries': 869,\n",
       " 'Action & Adventure': 859,\n",
       " 'TV Dramas': 762,\n",
       " 'Independent Movies': 755,\n",
       " 'Children & Family Movies': 641,\n",
       " 'Romantic Movies': 616,\n",
       " 'TV Comedies': 581,\n",
       " 'Thrillers': 576,\n",
       " 'Crime TV Shows': 470,\n",
       " \"Kids' TV\": 451,\n",
       " 'Docuseries': 395,\n",
       " 'Music & Musicals': 375,\n",
       " 'Romantic TV Shows': 370,\n",
       " 'Horror Movies': 357,\n",
       " 'Stand-Up Comedy': 343,\n",
       " 'Reality TV': 255,\n",
       " 'British TV Shows': 253,\n",
       " 'Sci-Fi & Fantasy': 243,\n",
       " 'Sports Movies': 219,\n",
       " 'Anime Series': 176,\n",
       " 'Spanish-Language TV Shows': 174,\n",
       " 'TV Action & Adventure': 168,\n",
       " 'Korean TV Shows': 151,\n",
       " 'Classic Movies': 116,\n",
       " 'LGBTQ Movies': 102,\n",
       " 'TV Mysteries': 98,\n",
       " 'Science & Nature TV': 92,\n",
       " 'TV Sci-Fi & Fantasy': 84,\n",
       " 'TV Horror': 75,\n",
       " 'Cult Movies': 71,\n",
       " 'Anime Features': 71,\n",
       " 'Teen TV Shows': 69,\n",
       " 'Faith & Spirituality': 65,\n",
       " 'Movies': 57,\n",
       " 'TV Thrillers': 57,\n",
       " 'Stand-Up Comedy & Talk Shows': 56,\n",
       " 'Classic & Cult TV': 28,\n",
       " 'TV Shows': 16,\n",
       " 'Drama': 1,\n",
       " 'Sci-fi': 1,\n",
       " 'Horror': 1,\n",
       " 'Romance': 1,\n",
       " 'Action': 1,\n",
       " 'Thriller': 1}"
      ]
     },
     "execution_count": 30,
     "metadata": {},
     "output_type": "execute_result"
    }
   ],
   "source": [
    "multiple_cate_profile.loc['distribution','listed_in']"
   ]
  },
  {
   "cell_type": "markdown",
   "metadata": {},
   "source": [
    "Dữ liệu không có giá trị bất thường.\n",
    "\n",
    "Có tổng cộng 36466 diễn viên, 127 quốc gia, và 48 thể loại."
   ]
  },
  {
   "cell_type": "markdown",
   "metadata": {},
   "source": [
    "#### 5.3. Nhận xét chung"
   ]
  },
  {
   "cell_type": "markdown",
   "metadata": {},
   "source": [
    "- Các giá trị của các cột và các hàng sau khi tiền xử lý không có gì bất thường, các con số đều phù hợp với ý nghĩa của từng cột dữ liệu.\n",
    "- Dữ liệu thiếu ở cột duration và season là do việc phân loại, những hàng có loại không quan trọng thuộc tính này thì nó sẽ để null.\n",
    "- Đa số các cột có dữ liệu thiếu ít.\n",
    "- Các cột cũng có các khoảng giá trị phù hợp tên cột."
   ]
  },
  {
   "cell_type": "markdown",
   "metadata": {},
   "source": [
    "# 4. Xuất file"
   ]
  },
  {
   "cell_type": "code",
   "execution_count": null,
   "metadata": {},
   "outputs": [],
   "source": [
    "netflix_df.to_csv('netflix_titles_cleaned.csv', index=False)"
   ]
  }
 ],
 "metadata": {
  "kernelspec": {
   "display_name": "min_ds-env2",
   "language": "python",
   "name": "python3"
  },
  "language_info": {
   "codemirror_mode": {
    "name": "ipython",
    "version": 3
   },
   "file_extension": ".py",
   "mimetype": "text/x-python",
   "name": "python",
   "nbconvert_exporter": "python",
   "pygments_lexer": "ipython3",
   "version": "3.10.15"
  }
 },
 "nbformat": 4,
 "nbformat_minor": 2
}
