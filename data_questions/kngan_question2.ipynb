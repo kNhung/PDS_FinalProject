{
 "cells": [
  {
   "cell_type": "markdown",
   "metadata": {},
   "source": [
    "# Câu hỏi: Xu hướng về sự đa dạng hóa nội dung quốc tế và nội dung nội địa của Netflix là gì?"
   ]
  },
  {
   "cell_type": "markdown",
   "metadata": {},
   "source": [
    "**Lợi ích:**\n",
    "   - Giúp phân tích sự thay đổi trong chiến lược nội dung quốc tế của Netflix, bao gồm sự gia tăng nội dung từ các quốc gia khác ngoài Mỹ.\n",
    "   - Điều này giúp nhận diện các xu hướng toàn cầu và nhận xét về việc Netflix đang mở rộng ra thị trường quốc tế như thế nào.\n",
    "\n",
    "**Cách làm:**\n",
    "   - Phân tích tỷ lệ nội dung quốc tế và nội dung từ Mỹ qua các năm.\n",
    "   - Xác định các quốc gia có sự gia tăng đáng kể về sản lượng nội dung trên Netflix (country).\n",
    "   - Vẽ biểu đồ phân chia tỷ lệ nội dung quốc tế và nội dung nội địa theo từng năm."
   ]
  },
  {
   "cell_type": "markdown",
   "metadata": {},
   "source": [
    "### Các thư viện cần thiết:"
   ]
  },
  {
   "cell_type": "code",
   "execution_count": 1,
   "metadata": {},
   "outputs": [],
   "source": [
    "import pandas as pd\n",
    "import matplotlib.pyplot as plt\n",
    "import seaborn as sns\n"
   ]
  },
  {
   "cell_type": "markdown",
   "metadata": {},
   "source": [
    "### Đọc file vào dataframe:"
   ]
  },
  {
   "cell_type": "code",
   "execution_count": 2,
   "metadata": {},
   "outputs": [
    {
     "data": {
      "text/html": [
       "<div>\n",
       "<style scoped>\n",
       "    .dataframe tbody tr th:only-of-type {\n",
       "        vertical-align: middle;\n",
       "    }\n",
       "\n",
       "    .dataframe tbody tr th {\n",
       "        vertical-align: top;\n",
       "    }\n",
       "\n",
       "    .dataframe thead th {\n",
       "        text-align: right;\n",
       "    }\n",
       "</style>\n",
       "<table border=\"1\" class=\"dataframe\">\n",
       "  <thead>\n",
       "    <tr style=\"text-align: right;\">\n",
       "      <th></th>\n",
       "      <th>type</th>\n",
       "      <th>title</th>\n",
       "      <th>director</th>\n",
       "      <th>cast</th>\n",
       "      <th>country</th>\n",
       "      <th>date_added</th>\n",
       "      <th>release_year</th>\n",
       "      <th>rating</th>\n",
       "      <th>listed_in</th>\n",
       "      <th>description</th>\n",
       "      <th>season</th>\n",
       "      <th>duration</th>\n",
       "    </tr>\n",
       "  </thead>\n",
       "  <tbody>\n",
       "    <tr>\n",
       "      <th>0</th>\n",
       "      <td>Movie</td>\n",
       "      <td>Dick Johnson Is Dead</td>\n",
       "      <td>Kirsten Johnson</td>\n",
       "      <td>UNKNOWN</td>\n",
       "      <td>United States</td>\n",
       "      <td>2021-09-25</td>\n",
       "      <td>2020</td>\n",
       "      <td>PG-13</td>\n",
       "      <td>Documentaries</td>\n",
       "      <td>As her father nears the end of his life, filmm...</td>\n",
       "      <td>NaN</td>\n",
       "      <td>90.0</td>\n",
       "    </tr>\n",
       "    <tr>\n",
       "      <th>1</th>\n",
       "      <td>TV Show</td>\n",
       "      <td>Blood &amp; Water</td>\n",
       "      <td>UNKNOWN</td>\n",
       "      <td>Ama Qamata, Khosi Ngema, Gail Mabalane, Thaban...</td>\n",
       "      <td>South Africa</td>\n",
       "      <td>2021-09-24</td>\n",
       "      <td>2021</td>\n",
       "      <td>TV-MA</td>\n",
       "      <td>International TV Shows, TV Dramas, TV Mysteries</td>\n",
       "      <td>After crossing paths at a party, a Cape Town t...</td>\n",
       "      <td>2.0</td>\n",
       "      <td>NaN</td>\n",
       "    </tr>\n",
       "    <tr>\n",
       "      <th>2</th>\n",
       "      <td>TV Show</td>\n",
       "      <td>Ganglands</td>\n",
       "      <td>Julien Leclercq</td>\n",
       "      <td>Sami Bouajila, Tracy Gotoas, Samuel Jouy, Nabi...</td>\n",
       "      <td>UNKNOWN</td>\n",
       "      <td>2021-09-24</td>\n",
       "      <td>2021</td>\n",
       "      <td>TV-MA</td>\n",
       "      <td>Crime TV Shows, International TV Shows, TV Act...</td>\n",
       "      <td>To protect his family from a powerful drug lor...</td>\n",
       "      <td>1.0</td>\n",
       "      <td>NaN</td>\n",
       "    </tr>\n",
       "    <tr>\n",
       "      <th>3</th>\n",
       "      <td>TV Show</td>\n",
       "      <td>Jailbirds New Orleans</td>\n",
       "      <td>UNKNOWN</td>\n",
       "      <td>UNKNOWN</td>\n",
       "      <td>UNKNOWN</td>\n",
       "      <td>2021-09-24</td>\n",
       "      <td>2021</td>\n",
       "      <td>TV-MA</td>\n",
       "      <td>Docuseries, Reality TV</td>\n",
       "      <td>Feuds, flirtations and toilet talk go down amo...</td>\n",
       "      <td>1.0</td>\n",
       "      <td>NaN</td>\n",
       "    </tr>\n",
       "    <tr>\n",
       "      <th>4</th>\n",
       "      <td>TV Show</td>\n",
       "      <td>Kota Factory</td>\n",
       "      <td>UNKNOWN</td>\n",
       "      <td>Mayur More, Jitendra Kumar, Ranjan Raj, Alam K...</td>\n",
       "      <td>India</td>\n",
       "      <td>2021-09-24</td>\n",
       "      <td>2021</td>\n",
       "      <td>TV-MA</td>\n",
       "      <td>International TV Shows, Romantic TV Shows, TV ...</td>\n",
       "      <td>In a city of coaching centers known to train I...</td>\n",
       "      <td>2.0</td>\n",
       "      <td>NaN</td>\n",
       "    </tr>\n",
       "  </tbody>\n",
       "</table>\n",
       "</div>"
      ],
      "text/plain": [
       "      type                  title         director  \\\n",
       "0    Movie   Dick Johnson Is Dead  Kirsten Johnson   \n",
       "1  TV Show          Blood & Water          UNKNOWN   \n",
       "2  TV Show              Ganglands  Julien Leclercq   \n",
       "3  TV Show  Jailbirds New Orleans          UNKNOWN   \n",
       "4  TV Show           Kota Factory          UNKNOWN   \n",
       "\n",
       "                                                cast        country  \\\n",
       "0                                            UNKNOWN  United States   \n",
       "1  Ama Qamata, Khosi Ngema, Gail Mabalane, Thaban...   South Africa   \n",
       "2  Sami Bouajila, Tracy Gotoas, Samuel Jouy, Nabi...        UNKNOWN   \n",
       "3                                            UNKNOWN        UNKNOWN   \n",
       "4  Mayur More, Jitendra Kumar, Ranjan Raj, Alam K...          India   \n",
       "\n",
       "   date_added  release_year rating  \\\n",
       "0  2021-09-25          2020  PG-13   \n",
       "1  2021-09-24          2021  TV-MA   \n",
       "2  2021-09-24          2021  TV-MA   \n",
       "3  2021-09-24          2021  TV-MA   \n",
       "4  2021-09-24          2021  TV-MA   \n",
       "\n",
       "                                           listed_in  \\\n",
       "0                                      Documentaries   \n",
       "1    International TV Shows, TV Dramas, TV Mysteries   \n",
       "2  Crime TV Shows, International TV Shows, TV Act...   \n",
       "3                             Docuseries, Reality TV   \n",
       "4  International TV Shows, Romantic TV Shows, TV ...   \n",
       "\n",
       "                                         description  season  duration  \n",
       "0  As her father nears the end of his life, filmm...     NaN      90.0  \n",
       "1  After crossing paths at a party, a Cape Town t...     2.0       NaN  \n",
       "2  To protect his family from a powerful drug lor...     1.0       NaN  \n",
       "3  Feuds, flirtations and toilet talk go down amo...     1.0       NaN  \n",
       "4  In a city of coaching centers known to train I...     2.0       NaN  "
      ]
     },
     "execution_count": 2,
     "metadata": {},
     "output_type": "execute_result"
    }
   ],
   "source": [
    "# Đọc file dữ liệu\n",
    "df = pd.read_csv('../data/netflix_titles_cleaned.csv', encoding='ISO-8859-1', skiprows= 0)\n",
    "df.head()"
   ]
  },
  {
   "cell_type": "markdown",
   "metadata": {},
   "source": [
    "## A. Tiền xử lý:"
   ]
  },
  {
   "cell_type": "markdown",
   "metadata": {},
   "source": [
    "Bỏ những cột không cần thiết:"
   ]
  },
  {
   "cell_type": "code",
   "execution_count": 3,
   "metadata": {},
   "outputs": [],
   "source": [
    "df = df.drop(columns = ['cast', 'rating', 'listed_in', 'description', 'season', 'duration'])"
   ]
  },
  {
   "cell_type": "markdown",
   "metadata": {},
   "source": [
    "Theo quan sát dữ liệu, vẫn còn tồn tại 2 dòng có xuất hiện dấu ',' đầu dòng. Tiến hành chuẩn hoá chuỗi."
   ]
  },
  {
   "cell_type": "code",
   "execution_count": 4,
   "metadata": {},
   "outputs": [
    {
     "data": {
      "text/plain": [
       "193        South Korea\n",
       "365    France, Algeria\n",
       "Name: country, dtype: object"
      ]
     },
     "execution_count": 4,
     "metadata": {},
     "output_type": "execute_result"
    }
   ],
   "source": [
    "index = df[df['country'].isin([', South Korea', ', France, Algeria'])].sort_index()\n",
    "country = index['country'].str.strip(', ')\n",
    "index['country'] = country\n",
    "df[df['country'].isin([', South Korea', ', France, Algeria'])] = index.copy()\n",
    "df.loc[index.index, 'country']"
   ]
  },
  {
   "cell_type": "markdown",
   "metadata": {},
   "source": [
    "- Chuẩn hoá thành công."
   ]
  },
  {
   "cell_type": "markdown",
   "metadata": {},
   "source": [
    "One-Hot encoding cho cột `country` để phân tích quốc gia."
   ]
  },
  {
   "cell_type": "code",
   "execution_count": 8,
   "metadata": {},
   "outputs": [
    {
     "data": {
      "text/html": [
       "<div>\n",
       "<style scoped>\n",
       "    .dataframe tbody tr th:only-of-type {\n",
       "        vertical-align: middle;\n",
       "    }\n",
       "\n",
       "    .dataframe tbody tr th {\n",
       "        vertical-align: top;\n",
       "    }\n",
       "\n",
       "    .dataframe thead th {\n",
       "        text-align: right;\n",
       "    }\n",
       "</style>\n",
       "<table border=\"1\" class=\"dataframe\">\n",
       "  <thead>\n",
       "    <tr style=\"text-align: right;\">\n",
       "      <th></th>\n",
       "      <th>type</th>\n",
       "      <th>title</th>\n",
       "      <th>director</th>\n",
       "      <th>date_added</th>\n",
       "      <th>release_year</th>\n",
       "      <th>Afghanistan</th>\n",
       "      <th>Albania</th>\n",
       "      <th>Algeria</th>\n",
       "      <th>Angola</th>\n",
       "      <th>Argentina</th>\n",
       "      <th>...</th>\n",
       "      <th>Ukraine</th>\n",
       "      <th>United Arab Emirates</th>\n",
       "      <th>United Kingdom</th>\n",
       "      <th>United States</th>\n",
       "      <th>Uruguay</th>\n",
       "      <th>Vatican City</th>\n",
       "      <th>Venezuela</th>\n",
       "      <th>Vietnam</th>\n",
       "      <th>West Germany</th>\n",
       "      <th>Zimbabwe</th>\n",
       "    </tr>\n",
       "  </thead>\n",
       "  <tbody>\n",
       "    <tr>\n",
       "      <th>0</th>\n",
       "      <td>Movie</td>\n",
       "      <td>Dick Johnson Is Dead</td>\n",
       "      <td>Kirsten Johnson</td>\n",
       "      <td>2021-09-25</td>\n",
       "      <td>2020</td>\n",
       "      <td>0</td>\n",
       "      <td>0</td>\n",
       "      <td>0</td>\n",
       "      <td>0</td>\n",
       "      <td>0</td>\n",
       "      <td>...</td>\n",
       "      <td>0</td>\n",
       "      <td>0</td>\n",
       "      <td>0</td>\n",
       "      <td>1</td>\n",
       "      <td>0</td>\n",
       "      <td>0</td>\n",
       "      <td>0</td>\n",
       "      <td>0</td>\n",
       "      <td>0</td>\n",
       "      <td>0</td>\n",
       "    </tr>\n",
       "    <tr>\n",
       "      <th>1</th>\n",
       "      <td>TV Show</td>\n",
       "      <td>Blood &amp; Water</td>\n",
       "      <td>UNKNOWN</td>\n",
       "      <td>2021-09-24</td>\n",
       "      <td>2021</td>\n",
       "      <td>0</td>\n",
       "      <td>0</td>\n",
       "      <td>0</td>\n",
       "      <td>0</td>\n",
       "      <td>0</td>\n",
       "      <td>...</td>\n",
       "      <td>0</td>\n",
       "      <td>0</td>\n",
       "      <td>0</td>\n",
       "      <td>0</td>\n",
       "      <td>0</td>\n",
       "      <td>0</td>\n",
       "      <td>0</td>\n",
       "      <td>0</td>\n",
       "      <td>0</td>\n",
       "      <td>0</td>\n",
       "    </tr>\n",
       "    <tr>\n",
       "      <th>2</th>\n",
       "      <td>TV Show</td>\n",
       "      <td>Ganglands</td>\n",
       "      <td>Julien Leclercq</td>\n",
       "      <td>2021-09-24</td>\n",
       "      <td>2021</td>\n",
       "      <td>0</td>\n",
       "      <td>0</td>\n",
       "      <td>0</td>\n",
       "      <td>0</td>\n",
       "      <td>0</td>\n",
       "      <td>...</td>\n",
       "      <td>0</td>\n",
       "      <td>0</td>\n",
       "      <td>0</td>\n",
       "      <td>0</td>\n",
       "      <td>0</td>\n",
       "      <td>0</td>\n",
       "      <td>0</td>\n",
       "      <td>0</td>\n",
       "      <td>0</td>\n",
       "      <td>0</td>\n",
       "    </tr>\n",
       "    <tr>\n",
       "      <th>3</th>\n",
       "      <td>TV Show</td>\n",
       "      <td>Jailbirds New Orleans</td>\n",
       "      <td>UNKNOWN</td>\n",
       "      <td>2021-09-24</td>\n",
       "      <td>2021</td>\n",
       "      <td>0</td>\n",
       "      <td>0</td>\n",
       "      <td>0</td>\n",
       "      <td>0</td>\n",
       "      <td>0</td>\n",
       "      <td>...</td>\n",
       "      <td>0</td>\n",
       "      <td>0</td>\n",
       "      <td>0</td>\n",
       "      <td>0</td>\n",
       "      <td>0</td>\n",
       "      <td>0</td>\n",
       "      <td>0</td>\n",
       "      <td>0</td>\n",
       "      <td>0</td>\n",
       "      <td>0</td>\n",
       "    </tr>\n",
       "    <tr>\n",
       "      <th>4</th>\n",
       "      <td>TV Show</td>\n",
       "      <td>Kota Factory</td>\n",
       "      <td>UNKNOWN</td>\n",
       "      <td>2021-09-24</td>\n",
       "      <td>2021</td>\n",
       "      <td>0</td>\n",
       "      <td>0</td>\n",
       "      <td>0</td>\n",
       "      <td>0</td>\n",
       "      <td>0</td>\n",
       "      <td>...</td>\n",
       "      <td>0</td>\n",
       "      <td>0</td>\n",
       "      <td>0</td>\n",
       "      <td>0</td>\n",
       "      <td>0</td>\n",
       "      <td>0</td>\n",
       "      <td>0</td>\n",
       "      <td>0</td>\n",
       "      <td>0</td>\n",
       "      <td>0</td>\n",
       "    </tr>\n",
       "  </tbody>\n",
       "</table>\n",
       "<p>5 rows × 127 columns</p>\n",
       "</div>"
      ],
      "text/plain": [
       "      type                  title         director  date_added  release_year  \\\n",
       "0    Movie   Dick Johnson Is Dead  Kirsten Johnson  2021-09-25          2020   \n",
       "1  TV Show          Blood & Water          UNKNOWN  2021-09-24          2021   \n",
       "2  TV Show              Ganglands  Julien Leclercq  2021-09-24          2021   \n",
       "3  TV Show  Jailbirds New Orleans          UNKNOWN  2021-09-24          2021   \n",
       "4  TV Show           Kota Factory          UNKNOWN  2021-09-24          2021   \n",
       "\n",
       "   Afghanistan  Albania  Algeria  Angola  Argentina  ...  Ukraine  \\\n",
       "0            0        0        0       0          0  ...        0   \n",
       "1            0        0        0       0          0  ...        0   \n",
       "2            0        0        0       0          0  ...        0   \n",
       "3            0        0        0       0          0  ...        0   \n",
       "4            0        0        0       0          0  ...        0   \n",
       "\n",
       "   United Arab Emirates  United Kingdom  United States  Uruguay  Vatican City  \\\n",
       "0                     0               0              1        0             0   \n",
       "1                     0               0              0        0             0   \n",
       "2                     0               0              0        0             0   \n",
       "3                     0               0              0        0             0   \n",
       "4                     0               0              0        0             0   \n",
       "\n",
       "   Venezuela  Vietnam  West Germany  Zimbabwe  \n",
       "0          0        0             0         0  \n",
       "1          0        0             0         0  \n",
       "2          0        0             0         0  \n",
       "3          0        0             0         0  \n",
       "4          0        0             0         0  \n",
       "\n",
       "[5 rows x 127 columns]"
      ]
     },
     "execution_count": 8,
     "metadata": {},
     "output_type": "execute_result"
    }
   ],
   "source": [
    "# Loại bỏ dấu phẩy thừa và khoảng trắng ở đầu/cuối\n",
    "df['country'] = df['country'].str.replace(r',\\s*$', '', regex=True)\n",
    "\n",
    "# Chuyển đổi cột 'country' thành các giá trị one-hot encoding\n",
    "listed_in_encoded = df['country'].str.split(', ', expand=True).stack()\n",
    "\n",
    "# Tạo one-hot encoding cho các quốc gia\n",
    "listed_in_encoded = pd.get_dummies(listed_in_encoded)\n",
    "listed_in_encoded = listed_in_encoded.drop(columns='UNKNOWN')\n",
    "\n",
    "# Gộp lại với DataFrame ban đầu\n",
    "df = pd.concat([df, listed_in_encoded.groupby(level=0).sum()], axis=1)\n",
    "\n",
    "# Xóa cột 'country' nếu không còn cần thiết\n",
    "df = df.drop(columns='country')\n",
    "\n",
    "# Kiểm tra kết quả\n",
    "df.head()\n"
   ]
  },
  {
   "cell_type": "markdown",
   "metadata": {},
   "source": [
    "## B. Phân tích:"
   ]
  },
  {
   "cell_type": "markdown",
   "metadata": {},
   "source": [
    "### 1. Sự thay đổi về số lượng nội dung nội địa và quốc tế được thêm vào Netflix qua các năm:"
   ]
  },
  {
   "cell_type": "markdown",
   "metadata": {},
   "source": [
    "##### 1.1. Tổng số lượng nội dung nội địa và quốc tế được thêm vào Netflix:"
   ]
  },
  {
   "cell_type": "markdown",
   "metadata": {},
   "source": [
    "- Các bước thực hiện:\n",
    "    - Bước 1: Tạo cột 'is_international' dựa trên one-hot encoding.\n",
    "    - Bước 2: Phân tích tỷ lệ nội dung quốc tế và nội địa theo từng năm.\n",
    "    - Bước 3: Vẽ biểu đồ phân chia tỷ lệ nội dung quốc tế và nội địa theo năm"
   ]
  },
  {
   "cell_type": "code",
   "execution_count": 18,
   "metadata": {},
   "outputs": [
    {
     "name": "stdout",
     "output_type": "stream",
     "text": [
      "is_international  Không xác định  Nội địa (Hoa Kỳ)  Quốc tế\n",
      "release_year                                               \n",
      "2008                         0.0               2.0      0.0\n",
      "2009                         0.0               1.0      1.0\n",
      "2010                         0.0               1.0      0.0\n",
      "2011                         0.0              12.0      1.0\n",
      "2012                         0.0               3.0      0.0\n",
      "2013                         0.0              10.0      1.0\n",
      "2014                         0.0              22.0      2.0\n",
      "2015                         3.0              57.0     22.0\n",
      "2016                        19.0             203.0    207.0\n",
      "2017                        65.0             462.0    661.0\n",
      "2018                       119.0             599.0    930.0\n",
      "2019                       157.0             856.0   1001.0\n",
      "2020                       108.0             828.0    943.0\n",
      "2021                       358.0             627.0    513.0\n"
     ]
    }
   ],
   "source": [
    "# Kiểm tra từng dòng trong DataFrame để gán giá trị vào 'is_international'\n",
    "df['is_international'] = df.apply(\n",
    "    lambda row: 'Nội địa (Hoa Kỳ)' if row['United States'] == 1 else\n",
    "               ('Quốc tế' if row[list(listed_in_encoded.columns)].sum() > 0 else 'Không xác định'),\n",
    "    axis=1\n",
    ")\n",
    "\n",
    "# Chuyển 'date_added' thành kiểu datetime và thêm cột 'release_year'\n",
    "df['date_added'] = pd.to_datetime(df['date_added'])\n",
    "df['release_year'] = df['date_added'].dt.year\n",
    "\n",
    "# Đếm số lượng nội dung quốc tế và nội địa theo từng năm\n",
    "content_distribution_by_year = df.groupby(['release_year', 'is_international']).size().unstack().fillna(0)\n",
    "# Vì chưa tổng kết năm 2024 nên ta tạm bỏ qua trong phần tính số lượng này\n",
    "content_distribution_by_year = content_distribution_by_year.drop(2024)\n",
    "print (content_distribution_by_year)"
   ]
  },
  {
   "cell_type": "markdown",
   "metadata": {},
   "source": [
    "- Biểu đồ: linechart.\n",
    "- Lý do chọn biểu đồ: Biểu đồ đường giúp trực quan tốt xu hướng qua từng năm dựa vào độ lên xuống của biểu đồ. Thông qua đó có thể dễ dàng quan sát được sự thay đổi qua từng năm."
   ]
  },
  {
   "cell_type": "code",
   "execution_count": 19,
   "metadata": {},
   "outputs": [
    {
     "data": {
      "text/plain": [
       "<Figure size 1000x600 with 0 Axes>"
      ]
     },
     "metadata": {},
     "output_type": "display_data"
    },
    {
     "data": {
      "image/png": "[encoded data removed]",
      "text/plain": [
       "<Figure size 640x480 with 1 Axes>"
      ]
     },
     "metadata": {},
     "output_type": "display_data"
    }
   ],
   "source": [
    "# Vẽ biểu đồ\n",
    "plt.figure(figsize=(10, 6))\n",
    "content_distribution_by_year.plot(kind='line', marker='o', color=['blue', 'green', 'gray'], linewidth=2)\n",
    "\n",
    "# Đặt tiêu đề và nhãn cho biểu đồ\n",
    "plt.title('Phân chia tỷ lệ nội dung quốc tế và nội địa theo năm', fontsize=14)\n",
    "plt.xlabel('Năm', fontsize=12)\n",
    "plt.ylabel('Số lượng nội dung', fontsize=12)\n",
    "plt.legend(['Không xác định', 'Nội địa (Hoa Kỳ)', 'Quốc tế'], loc='upper left')\n",
    "plt.grid(True)\n",
    "plt.tight_layout()\n",
    "plt.show()\n"
   ]
  }
 ],
 "metadata": {
  "kernelspec": {
   "display_name": "Python 3",
   "language": "python",
   "name": "python3"
  },
  "language_info": {
   "codemirror_mode": {
    "name": "ipython",
    "version": 3
   },
   "file_extension": ".py",
   "mimetype": "text/x-python",
   "name": "python",
   "nbconvert_exporter": "python",
   "pygments_lexer": "ipython3",
   "version": "3.13.0"
  }
 },
 "nbformat": 4,
 "nbformat_minor": 2
}
