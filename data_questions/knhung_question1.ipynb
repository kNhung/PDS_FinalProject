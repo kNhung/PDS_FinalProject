{
 "cells": [
  {
   "cell_type": "markdown",
   "metadata": {},
   "source": [
    "# Câu hỏi: **Sự thay đổi về số lượng và thể loại nội dung của Netflix qua các năm là gì?** #\n",
    "\n",
    "**Lợi ích:**\n",
    "- Giúp hiểu được xu hướng phát triển nội dung của Netflix trong việc bổ sung nội dung, cũng như cách họ ưu tiên các thể loại theo thời gian.\n",
    "- Xác định xem liệu Netflix đang dần mở rộng hoặc thu hẹp chiến lược sản xuất nội dung theo thể loại và nếu có sự thay dổi rõ rệt nào trong việc lựa chọn thể loại.\n",
    "\n",
    "**Cách làm:**\n",
    "1. Tính tổng số lượng nội dung (Phim, TV Shows) được thêm vào Netflix theo từng năm (date_added).\n",
    "2. Phân tích sự thay đổi về tỷ lệ giữa các thể loại (listed_in) qua các năm.\n",
    "3. Vẽ biểu đồ thời gian để hiển thị số lượng nội dung theo từng thể loại qua các năm.\n",
    "---"
   ]
  },
  {
   "cell_type": "markdown",
   "metadata": {},
   "source": [
    "### Import thư viện cần thiết"
   ]
  },
  {
   "cell_type": "code",
   "execution_count": 1,
   "metadata": {},
   "outputs": [],
   "source": [
    "import numpy as np\n",
    "import pandas as pd\n",
    "import matplotlib.pyplot as plt\n"
   ]
  },
  {
   "cell_type": "markdown",
   "metadata": {},
   "source": [
    "### Đọc file vào dataframe"
   ]
  },
  {
   "cell_type": "code",
   "execution_count": 2,
   "metadata": {},
   "outputs": [
    {
     "data": {
      "text/html": [
       "<div>\n",
       "<style scoped>\n",
       "    .dataframe tbody tr th:only-of-type {\n",
       "        vertical-align: middle;\n",
       "    }\n",
       "\n",
       "    .dataframe tbody tr th {\n",
       "        vertical-align: top;\n",
       "    }\n",
       "\n",
       "    .dataframe thead th {\n",
       "        text-align: right;\n",
       "    }\n",
       "</style>\n",
       "<table border=\"1\" class=\"dataframe\">\n",
       "  <thead>\n",
       "    <tr style=\"text-align: right;\">\n",
       "      <th></th>\n",
       "      <th>type</th>\n",
       "      <th>title</th>\n",
       "      <th>director</th>\n",
       "      <th>cast</th>\n",
       "      <th>country</th>\n",
       "      <th>date_added</th>\n",
       "      <th>release_year</th>\n",
       "      <th>rating</th>\n",
       "      <th>listed_in</th>\n",
       "      <th>description</th>\n",
       "      <th>season</th>\n",
       "      <th>duration</th>\n",
       "    </tr>\n",
       "  </thead>\n",
       "  <tbody>\n",
       "    <tr>\n",
       "      <th>0</th>\n",
       "      <td>Movie</td>\n",
       "      <td>Dick Johnson Is Dead</td>\n",
       "      <td>Kirsten Johnson</td>\n",
       "      <td>NaN</td>\n",
       "      <td>United States</td>\n",
       "      <td>2021-09-25</td>\n",
       "      <td>2020</td>\n",
       "      <td>PG-13</td>\n",
       "      <td>Documentaries</td>\n",
       "      <td>As her father nears the end of his life, filmm...</td>\n",
       "      <td>NaN</td>\n",
       "      <td>90.0</td>\n",
       "    </tr>\n",
       "    <tr>\n",
       "      <th>1</th>\n",
       "      <td>TV Show</td>\n",
       "      <td>Blood &amp; Water</td>\n",
       "      <td>NaN</td>\n",
       "      <td>Ama Qamata, Khosi Ngema, Gail Mabalane, Thaban...</td>\n",
       "      <td>South Africa</td>\n",
       "      <td>2021-09-24</td>\n",
       "      <td>2021</td>\n",
       "      <td>TV-MA</td>\n",
       "      <td>International TV Shows, TV Dramas, TV Mysteries</td>\n",
       "      <td>After crossing paths at a party, a Cape Town t...</td>\n",
       "      <td>2.0</td>\n",
       "      <td>NaN</td>\n",
       "    </tr>\n",
       "    <tr>\n",
       "      <th>2</th>\n",
       "      <td>TV Show</td>\n",
       "      <td>Ganglands</td>\n",
       "      <td>Julien Leclercq</td>\n",
       "      <td>Sami Bouajila, Tracy Gotoas, Samuel Jouy, Nabi...</td>\n",
       "      <td>NaN</td>\n",
       "      <td>2021-09-24</td>\n",
       "      <td>2021</td>\n",
       "      <td>TV-MA</td>\n",
       "      <td>Crime TV Shows, International TV Shows, TV Act...</td>\n",
       "      <td>To protect his family from a powerful drug lor...</td>\n",
       "      <td>1.0</td>\n",
       "      <td>NaN</td>\n",
       "    </tr>\n",
       "    <tr>\n",
       "      <th>3</th>\n",
       "      <td>TV Show</td>\n",
       "      <td>Jailbirds New Orleans</td>\n",
       "      <td>NaN</td>\n",
       "      <td>NaN</td>\n",
       "      <td>NaN</td>\n",
       "      <td>2021-09-24</td>\n",
       "      <td>2021</td>\n",
       "      <td>TV-MA</td>\n",
       "      <td>Docuseries, Reality TV</td>\n",
       "      <td>Feuds, flirtations and toilet talk go down amo...</td>\n",
       "      <td>1.0</td>\n",
       "      <td>NaN</td>\n",
       "    </tr>\n",
       "    <tr>\n",
       "      <th>4</th>\n",
       "      <td>TV Show</td>\n",
       "      <td>Kota Factory</td>\n",
       "      <td>NaN</td>\n",
       "      <td>Mayur More, Jitendra Kumar, Ranjan Raj, Alam K...</td>\n",
       "      <td>India</td>\n",
       "      <td>2021-09-24</td>\n",
       "      <td>2021</td>\n",
       "      <td>TV-MA</td>\n",
       "      <td>International TV Shows, Romantic TV Shows, TV ...</td>\n",
       "      <td>In a city of coaching centers known to train I...</td>\n",
       "      <td>2.0</td>\n",
       "      <td>NaN</td>\n",
       "    </tr>\n",
       "  </tbody>\n",
       "</table>\n",
       "</div>"
      ],
      "text/plain": [
       "      type                  title         director  \\\n",
       "0    Movie   Dick Johnson Is Dead  Kirsten Johnson   \n",
       "1  TV Show          Blood & Water              NaN   \n",
       "2  TV Show              Ganglands  Julien Leclercq   \n",
       "3  TV Show  Jailbirds New Orleans              NaN   \n",
       "4  TV Show           Kota Factory              NaN   \n",
       "\n",
       "                                                cast        country  \\\n",
       "0                                                NaN  United States   \n",
       "1  Ama Qamata, Khosi Ngema, Gail Mabalane, Thaban...   South Africa   \n",
       "2  Sami Bouajila, Tracy Gotoas, Samuel Jouy, Nabi...            NaN   \n",
       "3                                                NaN            NaN   \n",
       "4  Mayur More, Jitendra Kumar, Ranjan Raj, Alam K...          India   \n",
       "\n",
       "   date_added  release_year rating  \\\n",
       "0  2021-09-25          2020  PG-13   \n",
       "1  2021-09-24          2021  TV-MA   \n",
       "2  2021-09-24          2021  TV-MA   \n",
       "3  2021-09-24          2021  TV-MA   \n",
       "4  2021-09-24          2021  TV-MA   \n",
       "\n",
       "                                           listed_in  \\\n",
       "0                                      Documentaries   \n",
       "1    International TV Shows, TV Dramas, TV Mysteries   \n",
       "2  Crime TV Shows, International TV Shows, TV Act...   \n",
       "3                             Docuseries, Reality TV   \n",
       "4  International TV Shows, Romantic TV Shows, TV ...   \n",
       "\n",
       "                                         description  season  duration  \n",
       "0  As her father nears the end of his life, filmm...     NaN      90.0  \n",
       "1  After crossing paths at a party, a Cape Town t...     2.0       NaN  \n",
       "2  To protect his family from a powerful drug lor...     1.0       NaN  \n",
       "3  Feuds, flirtations and toilet talk go down amo...     1.0       NaN  \n",
       "4  In a city of coaching centers known to train I...     2.0       NaN  "
      ]
     },
     "execution_count": 2,
     "metadata": {},
     "output_type": "execute_result"
    }
   ],
   "source": [
    "df = pd.read_csv('../data/netflix_titles_cleaned.csv')\n",
    "df.head()"
   ]
  },
  {
   "cell_type": "markdown",
   "metadata": {},
   "source": [
    "# A. Tiền xử lý"
   ]
  },
  {
   "cell_type": "markdown",
   "metadata": {},
   "source": [
    "Bỏ các cột không cần thiết cho câu hỏi để giảm chiều dữ liệu."
   ]
  },
  {
   "cell_type": "code",
   "execution_count": 3,
   "metadata": {},
   "outputs": [],
   "source": [
    "df = df.drop(columns=['director', 'cast', 'rating', 'description'])"
   ]
  },
  {
   "cell_type": "markdown",
   "metadata": {},
   "source": [
    "One-Hot encoding cho cột `listed_in` để phân tích thể loại."
   ]
  },
  {
   "cell_type": "code",
   "execution_count": 4,
   "metadata": {},
   "outputs": [
    {
     "data": {
      "text/html": [
       "<div>\n",
       "<style scoped>\n",
       "    .dataframe tbody tr th:only-of-type {\n",
       "        vertical-align: middle;\n",
       "    }\n",
       "\n",
       "    .dataframe tbody tr th {\n",
       "        vertical-align: top;\n",
       "    }\n",
       "\n",
       "    .dataframe thead th {\n",
       "        text-align: right;\n",
       "    }\n",
       "</style>\n",
       "<table border=\"1\" class=\"dataframe\">\n",
       "  <thead>\n",
       "    <tr style=\"text-align: right;\">\n",
       "      <th></th>\n",
       "      <th>type</th>\n",
       "      <th>title</th>\n",
       "      <th>country</th>\n",
       "      <th>date_added</th>\n",
       "      <th>release_year</th>\n",
       "      <th>season</th>\n",
       "      <th>duration</th>\n",
       "      <th>Action</th>\n",
       "      <th>Action &amp; Adventure</th>\n",
       "      <th>Anime Features</th>\n",
       "      <th>...</th>\n",
       "      <th>TV Comedies</th>\n",
       "      <th>TV Dramas</th>\n",
       "      <th>TV Horror</th>\n",
       "      <th>TV Mysteries</th>\n",
       "      <th>TV Sci-Fi &amp; Fantasy</th>\n",
       "      <th>TV Shows</th>\n",
       "      <th>TV Thrillers</th>\n",
       "      <th>Teen TV Shows</th>\n",
       "      <th>Thriller</th>\n",
       "      <th>Thrillers</th>\n",
       "    </tr>\n",
       "  </thead>\n",
       "  <tbody>\n",
       "    <tr>\n",
       "      <th>0</th>\n",
       "      <td>Movie</td>\n",
       "      <td>Dick Johnson Is Dead</td>\n",
       "      <td>United States</td>\n",
       "      <td>2021-09-25</td>\n",
       "      <td>2020</td>\n",
       "      <td>NaN</td>\n",
       "      <td>90.0</td>\n",
       "      <td>0</td>\n",
       "      <td>0</td>\n",
       "      <td>0</td>\n",
       "      <td>...</td>\n",
       "      <td>0</td>\n",
       "      <td>0</td>\n",
       "      <td>0</td>\n",
       "      <td>0</td>\n",
       "      <td>0</td>\n",
       "      <td>0</td>\n",
       "      <td>0</td>\n",
       "      <td>0</td>\n",
       "      <td>0</td>\n",
       "      <td>0</td>\n",
       "    </tr>\n",
       "    <tr>\n",
       "      <th>1</th>\n",
       "      <td>TV Show</td>\n",
       "      <td>Blood &amp; Water</td>\n",
       "      <td>South Africa</td>\n",
       "      <td>2021-09-24</td>\n",
       "      <td>2021</td>\n",
       "      <td>2.0</td>\n",
       "      <td>NaN</td>\n",
       "      <td>0</td>\n",
       "      <td>0</td>\n",
       "      <td>0</td>\n",
       "      <td>...</td>\n",
       "      <td>0</td>\n",
       "      <td>1</td>\n",
       "      <td>0</td>\n",
       "      <td>1</td>\n",
       "      <td>0</td>\n",
       "      <td>0</td>\n",
       "      <td>0</td>\n",
       "      <td>0</td>\n",
       "      <td>0</td>\n",
       "      <td>0</td>\n",
       "    </tr>\n",
       "    <tr>\n",
       "      <th>2</th>\n",
       "      <td>TV Show</td>\n",
       "      <td>Ganglands</td>\n",
       "      <td>NaN</td>\n",
       "      <td>2021-09-24</td>\n",
       "      <td>2021</td>\n",
       "      <td>1.0</td>\n",
       "      <td>NaN</td>\n",
       "      <td>0</td>\n",
       "      <td>0</td>\n",
       "      <td>0</td>\n",
       "      <td>...</td>\n",
       "      <td>0</td>\n",
       "      <td>0</td>\n",
       "      <td>0</td>\n",
       "      <td>0</td>\n",
       "      <td>0</td>\n",
       "      <td>0</td>\n",
       "      <td>0</td>\n",
       "      <td>0</td>\n",
       "      <td>0</td>\n",
       "      <td>0</td>\n",
       "    </tr>\n",
       "    <tr>\n",
       "      <th>3</th>\n",
       "      <td>TV Show</td>\n",
       "      <td>Jailbirds New Orleans</td>\n",
       "      <td>NaN</td>\n",
       "      <td>2021-09-24</td>\n",
       "      <td>2021</td>\n",
       "      <td>1.0</td>\n",
       "      <td>NaN</td>\n",
       "      <td>0</td>\n",
       "      <td>0</td>\n",
       "      <td>0</td>\n",
       "      <td>...</td>\n",
       "      <td>0</td>\n",
       "      <td>0</td>\n",
       "      <td>0</td>\n",
       "      <td>0</td>\n",
       "      <td>0</td>\n",
       "      <td>0</td>\n",
       "      <td>0</td>\n",
       "      <td>0</td>\n",
       "      <td>0</td>\n",
       "      <td>0</td>\n",
       "    </tr>\n",
       "    <tr>\n",
       "      <th>4</th>\n",
       "      <td>TV Show</td>\n",
       "      <td>Kota Factory</td>\n",
       "      <td>India</td>\n",
       "      <td>2021-09-24</td>\n",
       "      <td>2021</td>\n",
       "      <td>2.0</td>\n",
       "      <td>NaN</td>\n",
       "      <td>0</td>\n",
       "      <td>0</td>\n",
       "      <td>0</td>\n",
       "      <td>...</td>\n",
       "      <td>1</td>\n",
       "      <td>0</td>\n",
       "      <td>0</td>\n",
       "      <td>0</td>\n",
       "      <td>0</td>\n",
       "      <td>0</td>\n",
       "      <td>0</td>\n",
       "      <td>0</td>\n",
       "      <td>0</td>\n",
       "      <td>0</td>\n",
       "    </tr>\n",
       "  </tbody>\n",
       "</table>\n",
       "<p>5 rows × 55 columns</p>\n",
       "</div>"
      ],
      "text/plain": [
       "      type                  title        country  date_added  release_year  \\\n",
       "0    Movie   Dick Johnson Is Dead  United States  2021-09-25          2020   \n",
       "1  TV Show          Blood & Water   South Africa  2021-09-24          2021   \n",
       "2  TV Show              Ganglands            NaN  2021-09-24          2021   \n",
       "3  TV Show  Jailbirds New Orleans            NaN  2021-09-24          2021   \n",
       "4  TV Show           Kota Factory          India  2021-09-24          2021   \n",
       "\n",
       "   season  duration  Action  Action & Adventure  Anime Features  ...  \\\n",
       "0     NaN      90.0       0                   0               0  ...   \n",
       "1     2.0       NaN       0                   0               0  ...   \n",
       "2     1.0       NaN       0                   0               0  ...   \n",
       "3     1.0       NaN       0                   0               0  ...   \n",
       "4     2.0       NaN       0                   0               0  ...   \n",
       "\n",
       "   TV Comedies  TV Dramas  TV Horror  TV Mysteries  TV Sci-Fi & Fantasy  \\\n",
       "0            0          0          0             0                    0   \n",
       "1            0          1          0             1                    0   \n",
       "2            0          0          0             0                    0   \n",
       "3            0          0          0             0                    0   \n",
       "4            1          0          0             0                    0   \n",
       "\n",
       "   TV Shows  TV Thrillers  Teen TV Shows  Thriller  Thrillers  \n",
       "0         0             0              0         0          0  \n",
       "1         0             0              0         0          0  \n",
       "2         0             0              0         0          0  \n",
       "3         0             0              0         0          0  \n",
       "4         0             0              0         0          0  \n",
       "\n",
       "[5 rows x 55 columns]"
      ]
     },
     "execution_count": 4,
     "metadata": {},
     "output_type": "execute_result"
    }
   ],
   "source": [
    "\n",
    "listed_in_encoded = df['listed_in'].str.get_dummies(sep=', ')\n",
    "df = pd.concat([df, listed_in_encoded], axis=1)\n",
    "df = df.drop(columns='listed_in')\n",
    "df.head()"
   ]
  },
  {
   "cell_type": "markdown",
   "metadata": {},
   "source": [
    "# B. Phân tích"
   ]
  },
  {
   "cell_type": "markdown",
   "metadata": {},
   "source": [
    "## 1. Sự thay đổi về số lượng nội dung được thêm vào Netflix qua các năm"
   ]
  },
  {
   "cell_type": "code",
   "execution_count": 16,
   "metadata": {},
   "outputs": [
    {
     "data": {
      "text/plain": [
       "2008       2\n",
       "2009       2\n",
       "2010       1\n",
       "2011      13\n",
       "2012       3\n",
       "2013      11\n",
       "2014      24\n",
       "2015      82\n",
       "2016     429\n",
       "2017    1188\n",
       "2018    1648\n",
       "2019    2014\n",
       "2020    1879\n",
       "2021    1498\n",
       "Name: year_added, dtype: int64"
      ]
     },
     "execution_count": 16,
     "metadata": {},
     "output_type": "execute_result"
    }
   ],
   "source": [
    "# Chuyển cột date_added sang định dạng datetime\n",
    "df['date_added'] = pd.to_datetime(df['date_added'])\n",
    "\n",
    "# Trích xuất năm từ cột date_added\n",
    "df['year_added'] = df['date_added'].dt.year\n",
    "\n",
    "# Đếm số lượng nội dung theo từng năm\n",
    "content_by_year = df['year_added'].value_counts().sort_index()\n",
    "content_by_year.index = content_by_year.index.astype('int')\n",
    "\n",
    "# Vì chưa tổng kết năm 2024 nên ta tạm bỏ qua trong phần tính số lượng này\n",
    "content_by_year = content_by_year.drop(2024)\n",
    "\n",
    "content_by_year"
   ]
  },
  {
   "cell_type": "markdown",
   "metadata": {},
   "source": [
    "### 1.1. Tổng số lượng nội dung qua các năm"
   ]
  },
  {
   "cell_type": "markdown",
   "metadata": {},
   "source": [
    "- Biểu đồ: barchart.\n",
    "- Lý do chọn biểu đồ:\n",
    "    - Các cột tạo cảm giác về số lượng sẽ phù hợp hơn.\n",
    "    - Số lượng năm không quá nhiều nên vẫn dùng barchart được.\n",
    "    - Dễ làm nổi bật được với cột có số lượng nhiều nhất."
   ]
  },
  {
   "cell_type": "code",
   "execution_count": 17,
   "metadata": {},
   "outputs": [
    {
     "data": {
      "image/png": "[encoded data removed]",
      "text/plain": [
       "<Figure size 800x600 with 1 Axes>"
      ]
     },
     "metadata": {},
     "output_type": "display_data"
    }
   ],
   "source": [
    "# Tìm năm có số lượng nội dung nhiều nhất\n",
    "max_year = content_by_year.idxmax()\n",
    "\n",
    "# Tạo danh sách màu: đỏ cho năm nhiều nhất, xanh cho các năm còn lại\n",
    "colors = ['red' if year == max_year else 'skyblue' for year in content_by_year.index]\n",
    "\n",
    "# Vẽ biểu đồ\n",
    "plt.figure(figsize=(8,6))\n",
    "ax = content_by_year.plot(kind='bar', color=colors)\n",
    "plt.title('Number of Content Added by Year')\n",
    "plt.xlabel('Year')\n",
    "plt.ylabel('Number of Content')\n",
    "\n",
    "# Thêm số lượng trên các cột\n",
    "for i, value in enumerate(content_by_year):\n",
    "    ax.text(i, value + 0.1, str(value), ha='center', va='bottom', fontsize=10, color='black')\n",
    "\n",
    "plt.show()"
   ]
  },
  {
   "cell_type": "markdown",
   "metadata": {},
   "source": [
    "**Nhận xét:**\n",
    "- Số lượng nội dung qua các năm tăng dần và đạt đỉnh vào năm 2019 với 2014 nội dung, là con số khá lớn nhưng sau đó số lượng lại giảm dần.\n",
    "- Vào những năm từ 2008 đến 2015, số lượng nội dung được thêm vào Netflix mỗi năm rất ít, chỉ dưới 100 nội dung. Điều này là do nền tảng stream phim chưa phổ biến nhiều, nên số lượng phim được thêm vào Netfilx còn rất ít.\n",
    "- Từ năm 2016 đến 2019, số lượng nội dung tăng đáng kể, lên tới con số 429 và đạt đỉnh 2014 nội dung và năm 2019. Giai đoạn từ 2016 đến 2019 có thể được giải thích bởi việc Netflix tập trung đầu tư mạnh vào nội dung và mở rộng quy mô toàn cầu. Điều này dẫn đến số lượng nội dung tăng mạnh, đạt đỉnh vào năm 2019.\n",
    "- Sau năm 2019, số lượng nội dung giảm dần chỉ còn 3/4 vào năm 2021. Sau năm 2019, sự sụt giảm có thể do tác động của đại dịch COVID-19, làm gián đoạn sản xuất nội dung, dẫn đến số lượng nội dung mới giảm đáng kể trong các năm sau."
   ]
  },
  {
   "cell_type": "markdown",
   "metadata": {},
   "source": [
    "### 1.2. Tỷ lệ số lượng nội dung qua các năm"
   ]
  },
  {
   "cell_type": "markdown",
   "metadata": {},
   "source": [
    "- Biều đồ: waterfall chart.\n",
    "- Lý do chọn biểu đồ:\n",
    "    - Thể hiện được rõ ràng số lượng tăng hay giảm qua các năm bằng vị trí của các cột."
   ]
  },
  {
   "cell_type": "code",
   "execution_count": null,
   "metadata": {},
   "outputs": [
    {
     "data": {
      "image/png": "[encoded data removed]",
      "text/plain": [
       "<Figure size 1000x600 with 1 Axes>"
      ]
     },
     "metadata": {},
     "output_type": "display_data"
    }
   ],
   "source": [
    "# Tính phần trăm thay đổi qua các năm\n",
    "content_percentage_changes = content_by_year.pct_change() * 100\n",
    "content_changes = content_by_year.diff()  # Tính thay đổi tuyệt đối\n",
    "\n",
    "# Loại bỏ giá trị đầu tiên (NaN)\n",
    "content_changes = content_changes.dropna()\n",
    "content_percentage_changes = content_percentage_changes.dropna()\n",
    "\n",
    "# Xác định màu sắc: xanh (tăng), đỏ (giảm)\n",
    "colors = ['green' if change > 0 else 'red' for change in content_changes]\n",
    "\n",
    "# Vẽ Waterfall chart\n",
    "fig, ax = plt.subplots(figsize=(10, 6))\n",
    "previous_value = 0  # Bắt đầu từ giá trị 0\n",
    "years = content_changes.index\n",
    "\n",
    "for i, (year, change) in enumerate(zip(years, content_changes)):\n",
    "    # Vẽ cột\n",
    "    ax.bar(year, change, bottom=previous_value, color=colors[i])\n",
    "\n",
    "    # Hiển thị phần trăm thay đổi\n",
    "    percentage = content_percentage_changes.iloc[i]\n",
    "    text_y = previous_value + change + (30 if change>0 else -30)\n",
    "    ax.text(year, text_y, f'{percentage: .2f}%', ha='center', va='center', fontsize=8, color='black')\n",
    "\n",
    "    # Cập nhật giá trị đỉnh của cột trước đó\n",
    "    previous_value += change\n",
    "\n",
    "# Thêm nhãn và tiêu đề\n",
    "ax.axhline(0, color='black', linewidth=0.8, linestyle='--')  # Đường ngang tại giá trị 0\n",
    "ax.set_title('Number of Content Added on Netflix Over Years', fontsize=14)\n",
    "ax.set_xlabel('Year', fontsize=12)\n",
    "ax.set_ylabel('Change in Number of Content', fontsize=12)\n",
    "ax.set_xticks(years)\n",
    "plt.xticks(rotation=45)\n",
    "plt.ylim(-100, 2100)\n",
    "plt.tight_layout()\n",
    "\n",
    "plt.show()"
   ]
  },
  {
   "cell_type": "markdown",
   "metadata": {},
   "source": [
    "**Nhận xét:**\n",
    "- Tỷ lệ tăng trưởng nội dung cao nhất là vào năm 2016 với mức tăng 423.17% so với năm trước dù tổng số lượng nội dung không đạt đỉnh như năm 2019. Tỷ lệ này không chỉ là bước nhảy vọt đáng kể mà còn cho thấy Netflix bắt đầu đầu tư mạnh mẽ vào việc mở rộng thư viện nội dung của mình để cạnh tranh với các nền tảng khác. Đây cũng là giai đoạn mà Netflix tập trung chuyển đổi từ mô hình phân phối DVD sang nền tảng phát trực tuyến.\n",
    "- Mặc dù thời gian đầu có 2 lần giảm nhưng đa số phần trăm tăng trưởng nội dung cho tới năm 2017 đều rất lớn (trên 100%). Đây là giai đoạn Netflix tăng trưởng và bùng nổ về số lượng nội dung thêm vào mỗi năm, phản ánh sự tự tin trong việc thu hút và giữ chân người dùng thông qua thư viện phong phú hơn. Điều này cũng gắn liền với việc ra mắt một loạt nội dung gốc đình đám (như Stranger Things vào năm 2016).\n",
    "- Sau đó phần trăm tăng trưởng giảm chỉ còn dưới 50% cho đến năm 2019 cho thấy Netflix đã đạt đến một ngưỡng nhất định về khả năng thêm mới nội dung mỗi năm. Netflix có lẽ đang dần chuyển hướng chiến lược, giảm tốc độ thêm nội dung mới.\n",
    "- Vào những năm 2020, 2021, tỷ lệ thêm nội dung đã giảm nhẹ (-6.07% và -20.20%)không chỉ do ảnh hưởng của đại dịch Covid-19 mà còn phản ánh việc ngành công nghiệp sản xuất nội dung bị đình trệ. Nhiều dự án sản xuất phim bị hoãn hoặc hủy bỏ do các biện pháp phong tỏa. Tuy nhiên, Netflix vẫn duy trì khả năng cung cấp nội dung mới, nhờ thư viện nội dung đã được chuẩn bị trước đó và các chiến lược mua bản quyền từ bên thứ ba. Điều này giúp nền tảng không bị gián đoạn hoàn toàn, mặc dù tốc độ tăng trưởng giảm."
   ]
  },
  {
   "cell_type": "markdown",
   "metadata": {},
   "source": [
    "### 1.3. Kết luận"
   ]
  },
  {
   "cell_type": "markdown",
   "metadata": {},
   "source": [
    "Netflix trải qua 3 giai đoạn chính:\n",
    "1. 2008-2015: Giai đoạn phát triển chậm\n",
    "    - Số lượng nội dung tăng trưởng thấp, dưới 100 nội dung mỗi năm, phản ánh sự thử nghiệm và chuẩn bị cho chuyển đổi sang phát trực tuyến.\n",
    "2. 2016-2019: Giai đoạn bùng nổ\n",
    "    - Tỷ lệ tăng trưởng đạt đỉnh năm 2016 (+423.17%), số lượng nội dung đạt đỉnh năm 2019 (2014 nội dung). Đây là thời kỳ Netflix đầu tư mạnh mẽ vào nội dung và mở rộng toàn cầu.\n",
    "3. 2020-2021: Giai đoạn suy giảm\n",
    "    - Số lượng và tỷ lệ tăng trưởng giảm do đại dịch Covid-19 và điều chỉnh chiến lược tập trung vào chất lượng nội dung.\n",
    "\n",
    " Netflix từ phát triển chậm đã bùng nổ mạnh mẽ, sau đó điều chỉnh để thích ứng với thị trường và các yếu tố ngoại cảnh, duy trì vị thế qua chiến lược chất lượng."
   ]
  },
  {
   "cell_type": "markdown",
   "metadata": {},
   "source": [
    "## 2. Sự thay đổi về thể loại nội dung qua các năm"
   ]
  },
  {
   "cell_type": "code",
   "execution_count": 50,
   "metadata": {},
   "outputs": [
    {
     "data": {
      "text/plain": [
       "Index(['Action', 'Action & Adventure', 'Anime Features', 'Anime Series',\n",
       "       'British TV Shows', 'Children & Family Movies', 'Classic & Cult TV',\n",
       "       'Classic Movies', 'Comedies', 'Crime TV Shows', 'Cult Movies',\n",
       "       'Documentaries', 'Docuseries', 'Drama', 'Dramas',\n",
       "       'Faith & Spirituality', 'Horror', 'Horror Movies', 'Independent Movies',\n",
       "       'International Movies', 'International TV Shows', 'Kids' TV',\n",
       "       'Korean TV Shows', 'LGBTQ Movies', 'Movies', 'Music & Musicals',\n",
       "       'Reality TV', 'Romance', 'Romantic Movies', 'Romantic TV Shows',\n",
       "       'Sci-Fi & Fantasy', 'Sci-fi', 'Science & Nature TV',\n",
       "       'Spanish-Language TV Shows', 'Sports Movies', 'Stand-Up Comedy',\n",
       "       'Stand-Up Comedy & Talk Shows', 'TV Action & Adventure', 'TV Comedies',\n",
       "       'TV Dramas', 'TV Horror', 'TV Mysteries', 'TV Sci-Fi & Fantasy',\n",
       "       'TV Shows', 'TV Thrillers', 'Teen TV Shows', 'Thriller', 'Thrillers'],\n",
       "      dtype='object')"
      ]
     },
     "execution_count": 50,
     "metadata": {},
     "output_type": "execute_result"
    }
   ],
   "source": [
    "# Lấy danh sách các thể loại\n",
    "genres = listed_in_encoded.columns\n",
    "genres"
   ]
  },
  {
   "cell_type": "markdown",
   "metadata": {},
   "source": [
    "### 2.1. Xu hướng chung về thể loại qua các năm"
   ]
  },
  {
   "cell_type": "markdown",
   "metadata": {},
   "source": [
    "### 2.2. Thể loại nổi bật theo từng giai đoạn"
   ]
  },
  {
   "cell_type": "markdown",
   "metadata": {},
   "source": [
    "### 2.3. Sự đa dạng về thể loại qua các năm"
   ]
  },
  {
   "cell_type": "markdown",
   "metadata": {},
   "source": [
    "### 2.4. Kết luận"
   ]
  },
  {
   "cell_type": "markdown",
   "metadata": {},
   "source": [
    "## 3. Kết luận"
   ]
  },
  {
   "cell_type": "markdown",
   "metadata": {},
   "source": []
  }
 ],
 "metadata": {
  "kernelspec": {
   "display_name": "min_ds-env2",
   "language": "python",
   "name": "python3"
  },
  "language_info": {
   "codemirror_mode": {
    "name": "ipython",
    "version": 3
   },
   "file_extension": ".py",
   "mimetype": "text/x-python",
   "name": "python",
   "nbconvert_exporter": "python",
   "pygments_lexer": "ipython3",
   "version": "3.10.15"
  }
 },
 "nbformat": 4,
 "nbformat_minor": 2
}
